{
 "cells": [
  {
   "cell_type": "code",
   "execution_count": 1,
   "metadata": {},
   "outputs": [],
   "source": [
    "import numpy as np\n",
    "import pandas as pd\n",
    "from sklearn.linear_model import Lasso\n",
    "from sklearn.model_selection import train_test_split\n",
    "from sklearn.metrics import mean_squared_error, r2_score\n",
    "from utils import gather_data, mean_squared_percentage_error"
   ]
  },
  {
   "cell_type": "markdown",
   "metadata": {},
   "source": [
    "# LASSO Model for Feature Selection\n",
    "The goal of this IPython notebook is to run a LASSO model and use its results to determine if any features are extraneous."
   ]
  },
  {
   "cell_type": "code",
   "execution_count": 2,
   "metadata": {},
   "outputs": [
    {
     "name": "stdout",
     "output_type": "stream",
     "text": [
      "Index(['Log GDP per capita', 'Social support',\n",
      "       'Healthy life expectancy at birth', 'Freedom to make life choices',\n",
      "       'Generosity', 'Perceptions of corruption', 'Positive affect',\n",
      "       'Negative affect', 'Confidence in national government'],\n",
      "      dtype='object')\n"
     ]
    }
   ],
   "source": [
    "x_train, x_test, y_train, y_test = gather_data()"
   ]
  },
  {
   "cell_type": "code",
   "execution_count": 3,
   "metadata": {},
   "outputs": [
    {
     "data": {
      "text/plain": [
       "{1e-05: {'MSE': 0.2623950210749764,\n",
       "  'R2': 0.8116535090602695,\n",
       "  'MSPE': 1.3511476697961868,\n",
       "  'coef': array([ 2.0524212 ,  1.62889364,  1.84366177,  0.91955186,  0.40414557,\n",
       "         -1.1134499 ,  2.06621695,  0.08686471, -0.64585734])},\n",
       " 0.0001: {'MSE': 0.26235686947593023,\n",
       "  'R2': 0.8116808941828021,\n",
       "  'MSPE': 1.351348398649747,\n",
       "  'coef': array([ 2.05787967,  1.61915551,  1.83824857,  0.91818263,  0.40190701,\n",
       "         -1.10855636,  2.06061915,  0.06471596, -0.64198569])},\n",
       " 0.001: {'MSE': 0.26306990251852574,\n",
       "  'R2': 0.8111690808452366,\n",
       "  'MSPE': 1.3585389513158983,\n",
       "  'coef': array([ 2.12327484,  1.57242684,  1.74657831,  0.89772247,  0.37967185,\n",
       "         -1.06903404,  2.02003644,  0.        , -0.59336887])},\n",
       " 0.01: {'MSE': 0.2961775213755292,\n",
       "  'R2': 0.7874045146978292,\n",
       "  'MSPE': 1.5449239954889675,\n",
       "  'coef': array([ 2.81980378,  1.30799683,  0.67883034,  0.66527779,  0.15707794,\n",
       "         -0.71402438,  1.68057059, -0.        , -0.0675667 ])},\n",
       " 0.1: {'MSE': 0.82684670282285,\n",
       "  'R2': 0.4064915013106486,\n",
       "  'MSPE': 3.7946662814679346,\n",
       "  'coef': array([ 1.85592444,  0.        ,  0.        ,  0.        ,  0.        ,\n",
       "         -0.        ,  0.        , -0.        , -0.        ])},\n",
       " 0.5: {'MSE': 1.3932430095300985,\n",
       "  'R2': -6.63533791755988e-05,\n",
       "  'MSPE': 6.287990207480175,\n",
       "  'coef': array([ 0.,  0.,  0.,  0.,  0., -0.,  0., -0., -0.])},\n",
       " 1: {'MSE': 1.3932430095300985,\n",
       "  'R2': -6.63533791755988e-05,\n",
       "  'MSPE': 6.287990207480175,\n",
       "  'coef': array([ 0.,  0.,  0.,  0.,  0., -0.,  0., -0., -0.])}}"
      ]
     },
     "execution_count": 3,
     "metadata": {},
     "output_type": "execute_result"
    }
   ],
   "source": [
    "stats = {}\n",
    "for l1 in [1e-5, 1e-4, 1e-3, 0.01, 0.1, 0.5, 1]:\n",
    "    lasso = Lasso(alpha=l1)\n",
    "    lasso.fit(x_train, y_train)\n",
    "    stats[l1] = {}\n",
    "    stats[l1][\"MSE\"] = mean_squared_error(y_test, lasso.predict(x_test))\n",
    "    stats[l1][\"R2\"] = r2_score(y_test, lasso.predict(x_test))\n",
    "    stats[l1][\"MSPE\"] = mean_squared_percentage_error(y_test, lasso.predict(x_test))\n",
    "    stats[l1][\"coef\"] = lasso.coef_\n",
    "stats"
   ]
  },
  {
   "cell_type": "code",
   "execution_count": 4,
   "metadata": {},
   "outputs": [
    {
     "name": "stdout",
     "output_type": "stream",
     "text": [
      "{'MSE': 0.26235686947593023, 'R2': 0.8116808941828021, 'MSPE': 1.351348398649747, 'coef': array([ 2.05787967,  1.61915551,  1.83824857,  0.91818263,  0.40190701,\n",
      "       -1.10855636,  2.06061915,  0.06471596, -0.64198569])}\n"
     ]
    }
   ],
   "source": [
    "best_l1 = 1e-5\n",
    "for l1 in [1e-5, 1e-4, 1e-3, 0.01, 0.1, 0.5, 1]:\n",
    "    if stats[l1][\"R2\"] > stats[best_l1][\"R2\"]:\n",
    "        best_l1 = l1\n",
    "print(stats[best_l1])"
   ]
  },
  {
   "cell_type": "markdown",
   "metadata": {},
   "source": [
    "The only unused feature is negative affect in the best LASSO model. This makes sense as its corollary feature positive affect is also present, so these values are likely heavily correlated and only one is useful."
   ]
  },
  {
   "cell_type": "markdown",
   "metadata": {},
   "source": []
  }
 ],
 "metadata": {
  "kernelspec": {
   "display_name": "Python 3 (ipykernel)",
   "language": "python",
   "name": "python3"
  },
  "language_info": {
   "codemirror_mode": {
    "name": "ipython",
    "version": 3
   },
   "file_extension": ".py",
   "mimetype": "text/x-python",
   "name": "python",
   "nbconvert_exporter": "python",
   "pygments_lexer": "ipython3",
   "version": "3.10.9"
  },
  "vscode": {
   "interpreter": {
    "hash": "26de051ba29f2982a8de78e945f0abaf191376122a1563185a90213a26c5da77"
   }
  }
 },
 "nbformat": 4,
 "nbformat_minor": 4
}
