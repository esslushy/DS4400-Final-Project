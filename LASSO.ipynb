{
 "cells": [
  {
   "cell_type": "code",
   "execution_count": 1,
   "metadata": {},
   "outputs": [],
   "source": [
    "import numpy as np\n",
    "import pandas as pd\n",
    "from sklearn.linear_model import Lasso\n",
    "from sklearn.model_selection import train_test_split\n",
    "from sklearn.metrics import mean_squared_error, r2_score\n",
    "from utils import gather_data, mean_squared_percentage_error"
   ]
  },
  {
   "cell_type": "markdown",
   "metadata": {},
   "source": [
    "# LASSO Model for Feature Selection\n",
    "The goal of this IPython notebook is to run a LASSO model and use its results to determine if any features are extraneous."
   ]
  },
  {
   "cell_type": "code",
   "execution_count": 2,
   "metadata": {},
   "outputs": [
    {
     "name": "stdout",
     "output_type": "stream",
     "text": [
      "Index(['Log GDP per capita', 'Social support',\n",
      "       'Healthy life expectancy at birth', 'Freedom to make life choices',\n",
      "       'Generosity', 'Perceptions of corruption', 'Positive affect',\n",
      "       'Negative affect', 'Confidence in national government'],\n",
      "      dtype='object')\n"
     ]
    }
   ],
   "source": [
    "data, label = gather_data()"
   ]
  },
  {
   "cell_type": "code",
   "execution_count": 3,
   "metadata": {},
   "outputs": [],
   "source": [
    "x_train, x_test, y_train, y_test = train_test_split(data, label, test_size=0.2)"
   ]
  },
  {
   "cell_type": "code",
   "execution_count": 4,
   "metadata": {},
   "outputs": [
    {
     "data": {
      "text/plain": [
       "{1e-05: {'MSE': 0.25713672443725305,\n",
       "  'R2': 0.8101095268790461,\n",
       "  'MSPE': 1.3602337975345378,\n",
       "  'coef': array([ 2.1178995 ,  1.56771813,  1.83978337,  0.91066813,  0.53044798,\n",
       "         -1.15713972,  1.97306178,  0.04336621, -0.80520365])},\n",
       " 0.0001: {'MSE': 0.25693980075339273,\n",
       "  'R2': 0.8102549511920407,\n",
       "  'MSPE': 1.3594881663598308,\n",
       "  'coef': array([ 2.12378027,  1.55632517,  1.83508557,  0.90934462,  0.52804258,\n",
       "         -1.15206406,  1.96760085,  0.02029405, -0.80108403])},\n",
       " 0.001: {'MSE': 0.25588719609910715,\n",
       "  'R2': 0.8110322792701247,\n",
       "  'MSPE': 1.3575817845339877,\n",
       "  'coef': array([ 2.19377416,  1.51725962,  1.73634423,  0.8852941 ,  0.50351197,\n",
       "         -1.11554415,  1.93465893, -0.        , -0.74809429])},\n",
       " 0.01: {'MSE': 0.27082588552158526,\n",
       "  'R2': 0.80000034748967,\n",
       "  'MSPE': 1.4490460255272826,\n",
       "  'coef': array([ 2.90482274,  1.19578384,  0.69874324,  0.63419314,  0.25729436,\n",
       "         -0.764823  ,  1.62755798, -0.        , -0.20739185])},\n",
       " 0.1: {'MSE': 0.7984275468274187,\n",
       "  'R2': 0.41037677542299833,\n",
       "  'MSPE': 4.146401406539746,\n",
       "  'coef': array([ 1.87076038,  0.        ,  0.        ,  0.        ,  0.        ,\n",
       "         -0.        ,  0.        , -0.        , -0.        ])},\n",
       " 0.5: {'MSE': 1.3714410677823954,\n",
       "  'R2': -0.012782572340242382,\n",
       "  'MSPE': 6.979514875704941,\n",
       "  'coef': array([ 0.,  0.,  0.,  0.,  0., -0.,  0., -0., -0.])},\n",
       " 1: {'MSE': 1.3714410677823954,\n",
       "  'R2': -0.012782572340242382,\n",
       "  'MSPE': 6.979514875704941,\n",
       "  'coef': array([ 0.,  0.,  0.,  0.,  0., -0.,  0., -0., -0.])}}"
      ]
     },
     "execution_count": 4,
     "metadata": {},
     "output_type": "execute_result"
    }
   ],
   "source": [
    "stats = {}\n",
    "for l1 in [1e-5, 1e-4, 1e-3, 0.01, 0.1, 0.5, 1]:\n",
    "    lasso = Lasso(alpha=l1)\n",
    "    lasso.fit(x_train, y_train)\n",
    "    stats[l1] = {}\n",
    "    stats[l1][\"MSE\"] = mean_squared_error(y_test, lasso.predict(x_test))\n",
    "    stats[l1][\"R2\"] = r2_score(y_test, lasso.predict(x_test))\n",
    "    stats[l1][\"MSPE\"] = mean_squared_percentage_error(y_test, lasso.predict(x_test))\n",
    "    stats[l1][\"coef\"] = lasso.coef_\n",
    "stats"
   ]
  },
  {
   "cell_type": "code",
   "execution_count": 5,
   "metadata": {},
   "outputs": [
    {
     "name": "stdout",
     "output_type": "stream",
     "text": [
      "{'MSE': 0.25588719609910715, 'R2': 0.8110322792701247, 'MSPE': 1.3575817845339877, 'coef': array([ 2.19377416,  1.51725962,  1.73634423,  0.8852941 ,  0.50351197,\n",
      "       -1.11554415,  1.93465893, -0.        , -0.74809429])}\n"
     ]
    }
   ],
   "source": [
    "best_l1 = 1e-5\n",
    "for l1 in [1e-5, 1e-4, 1e-3, 0.01, 0.1, 0.5, 1]:\n",
    "    if stats[l1][\"R2\"] > stats[best_l1][\"R2\"]:\n",
    "        best_l1 = l1\n",
    "print(stats[best_l1])"
   ]
  },
  {
   "cell_type": "markdown",
   "metadata": {},
   "source": [
    "The only unused feature is negative affect in the best LASSO model. This makes sense as its corollary feature positive affect is also present, so these values are likely heavily correlated and only one is useful."
   ]
  },
  {
   "cell_type": "markdown",
   "metadata": {},
   "source": []
  }
 ],
 "metadata": {
  "kernelspec": {
   "display_name": "Python 3 (ipykernel)",
   "language": "python",
   "name": "python3"
  },
  "language_info": {
   "codemirror_mode": {
    "name": "ipython",
    "version": 3
   },
   "file_extension": ".py",
   "mimetype": "text/x-python",
   "name": "python",
   "nbconvert_exporter": "python",
   "pygments_lexer": "ipython3",
   "version": "3.10.9"
  },
  "vscode": {
   "interpreter": {
    "hash": "26de051ba29f2982a8de78e945f0abaf191376122a1563185a90213a26c5da77"
   }
  }
 },
 "nbformat": 4,
 "nbformat_minor": 2
}
