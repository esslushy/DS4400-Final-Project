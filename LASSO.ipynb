{
 "cells": [
  {
   "cell_type": "code",
   "execution_count": 1,
   "metadata": {},
   "outputs": [],
   "source": [
    "import numpy as np\n",
    "import pandas as pd\n",
    "from sklearn.linear_model import Lasso\n",
    "from sklearn.model_selection import train_test_split\n",
    "from sklearn.metrics import mean_squared_error, r2_score\n",
    "from utils import gather_data, mean_squared_percentage_error"
   ]
  },
  {
   "cell_type": "markdown",
   "metadata": {},
   "source": [
    "# LASSO Model for Feature Selection\n",
    "The goal of this IPython notebook is to run a LASSO model and use its results to determine if any features are extraneous."
   ]
  },
  {
   "cell_type": "code",
   "execution_count": 2,
   "metadata": {},
   "outputs": [
    {
     "name": "stdout",
     "output_type": "stream",
     "text": [
      "Index(['Log GDP per capita', 'Social support',\n",
      "       'Healthy life expectancy at birth', 'Freedom to make life choices',\n",
      "       'Generosity', 'Perceptions of corruption', 'Positive affect',\n",
      "       'Negative affect', 'Confidence in national government'],\n",
      "      dtype='object')\n"
     ]
    }
   ],
   "source": [
    "data, label = gather_data()"
   ]
  },
  {
   "cell_type": "code",
   "execution_count": 3,
   "metadata": {},
   "outputs": [],
   "source": [
    "x_train, x_test, y_train, y_test = train_test_split(data, label, test_size=0.2)"
   ]
  },
  {
   "cell_type": "code",
   "execution_count": 4,
   "metadata": {},
   "outputs": [
    {
     "data": {
      "text/plain": [
<<<<<<< Updated upstream
       "{1e-05: {'MSE': 0.2658807139054348,\n",
       "  'R2': 0.7841059886461055,\n",
       "  'MSPE': 1.289546824739621,\n",
       "  'coef': array([ 0.32161821,  1.75264199,  0.02686082,  0.90664006,  0.47223065,\n",
       "         -1.19067116,  1.94879934, -0.01436991, -0.78244303])},\n",
       " 0.0001: {'MSE': 0.2656888090109394,\n",
       "  'R2': 0.784261814606035,\n",
       "  'MSPE': 1.2891132783561798,\n",
       "  'coef': array([ 0.32263175,  1.7483843 ,  0.02691294,  0.89974082,  0.46988422,\n",
       "         -1.18616309,  1.94904412, -0.00331437, -0.77393016])},\n",
       " 0.001: {'MSE': 0.26400109356973106,\n",
       "  'R2': 0.7856322323820154,\n",
       "  'MSPE': 1.2854830608810675,\n",
       "  'coef': array([ 0.33174332,  1.67009942,  0.02782062,  0.83538856,  0.44756644,\n",
       "         -1.13299431,  1.94149356, -0.        , -0.69482207])},\n",
       " 0.01: {'MSE': 0.27572282478438004,\n",
       "  'R2': 0.7761142363800835,\n",
       "  'MSPE': 1.3678302664043174,\n",
       "  'coef': array([ 0.41917581,  0.85631904,  0.03650844,  0.25560887,  0.23552083,\n",
       "         -0.63997617,  1.83606988, -0.        , -0.        ])},\n",
       " 0.1: {'MSE': 0.4546728854609286,\n",
       "  'R2': 0.6308075465341105,\n",
       "  'MSPE': 2.1014054001269296,\n",
       "  'coef': array([ 0.347298  ,  0.        ,  0.06720689,  0.        ,  0.        ,\n",
       "         -0.        ,  0.        , -0.        ,  0.        ])},\n",
       " 0.5: {'MSE': 0.5882726827880485,\n",
       "  'R2': 0.5223250780716636,\n",
       "  'MSPE': 2.6987089253548584,\n",
       "  'coef': array([ 0.        ,  0.        ,  0.10613484,  0.        ,  0.        ,\n",
       "         -0.        ,  0.        , -0.        ,  0.        ])},\n",
       " 1: {'MSE': 0.5999392803480924,\n",
       "  'R2': 0.5128518503632962,\n",
       "  'MSPE': 2.742501656968038,\n",
       "  'coef': array([ 0.        ,  0.        ,  0.09679909,  0.        ,  0.        ,\n",
=======
       "{1e-05: {'MSE': 0.3051406777999007,\n",
       "  'R2': 0.7747496548906185,\n",
       "  'MSPE': 1.404543975827482,\n",
       "  'coef': array([ 0.36242134,  1.51399766,  0.02666228,  0.77639026,  0.52455937,\n",
       "         -1.05945169,  2.12606501, -0.08930044, -0.68659339])},\n",
       " 0.0001: {'MSE': 0.30517727794985083,\n",
       "  'R2': 0.7747226372000674,\n",
       "  'MSPE': 1.4046244875597864,\n",
       "  'coef': array([ 0.36341108,  1.50990625,  0.02671792,  0.77006294,  0.52220816,\n",
       "         -1.05465054,  2.12606553, -0.07782384, -0.67801136])},\n",
       " 0.001: {'MSE': 0.30598364656025856,\n",
       "  'R2': 0.7741273877921899,\n",
       "  'MSPE': 1.4072669764298174,\n",
       "  'coef': array([ 0.37296713,  1.45718613,  0.02740024,  0.70851196,  0.49921672,\n",
       "         -1.00386916,  2.12259844, -0.        , -0.5942446 ])},\n",
       " 0.01: {'MSE': 0.3386431088333731,\n",
       "  'R2': 0.7500186547279932,\n",
       "  'MSPE': 1.5285055224989335,\n",
       "  'coef': array([ 0.45471761,  0.63748228,  0.03579737,  0.25618029,  0.29985315,\n",
       "         -0.52702068,  1.96555033, -0.        , -0.        ])},\n",
       " 0.1: {'MSE': 0.5064067296585082,\n",
       "  'R2': 0.6261780256774097,\n",
       "  'MSPE': 2.1160356229818453,\n",
       "  'coef': array([ 0.36120405,  0.        ,  0.0669369 ,  0.        ,  0.        ,\n",
       "         -0.        ,  0.        , -0.        ,  0.        ])},\n",
       " 0.5: {'MSE': 0.6250902798354887,\n",
       "  'R2': 0.5385675804594101,\n",
       "  'MSPE': 2.6691172571200106,\n",
       "  'coef': array([ 0.        ,  0.        ,  0.10735354,  0.        ,  0.        ,\n",
       "         -0.        ,  0.        , -0.        ,  0.        ])},\n",
       " 1: {'MSE': 0.6322179601133053,\n",
       "  'R2': 0.5333060320680798,\n",
       "  'MSPE': 2.6872306097663037,\n",
       "  'coef': array([ 0.        ,  0.        ,  0.09744157,  0.        ,  0.        ,\n",
>>>>>>> Stashed changes
       "         -0.        ,  0.        , -0.        ,  0.        ])}}"
      ]
     },
     "execution_count": 4,
     "metadata": {},
     "output_type": "execute_result"
    }
   ],
   "source": [
    "stats = {}\n",
    "for l1 in [1e-5, 1e-4, 1e-3, 0.01, 0.1, 0.5, 1]:\n",
    "    lasso = Lasso(alpha=l1)\n",
    "    lasso.fit(x_train, y_train)\n",
    "    stats[l1] = {}\n",
    "    stats[l1][\"MSE\"] = mean_squared_error(y_test, lasso.predict(x_test))\n",
    "    stats[l1][\"R2\"] = r2_score(y_test, lasso.predict(x_test))\n",
    "    stats[l1][\"MSPE\"] = mean_squared_percentage_error(y_test, lasso.predict(x_test))\n",
    "    stats[l1][\"coef\"] = lasso.coef_\n",
    "stats"
   ]
  },
  {
   "cell_type": "code",
   "execution_count": 5,
   "metadata": {},
   "outputs": [
    {
     "name": "stdout",
     "output_type": "stream",
     "text": [
<<<<<<< Updated upstream
      "{'MSE': 0.26400109356973106, 'R2': 0.7856322323820154, 'MSPE': 1.2854830608810675, 'coef': array([ 0.33174332,  1.67009942,  0.02782062,  0.83538856,  0.44756644,\n",
      "       -1.13299431,  1.94149356, -0.        , -0.69482207])}\n"
=======
      "{'MSE': 0.3051406777999007, 'R2': 0.7747496548906185, 'MSPE': 1.404543975827482, 'coef': array([ 0.36242134,  1.51399766,  0.02666228,  0.77639026,  0.52455937,\n",
      "       -1.05945169,  2.12606501, -0.08930044, -0.68659339])}\n"
>>>>>>> Stashed changes
     ]
    }
   ],
   "source": [
    "best_l1 = 1e-5\n",
    "for l1 in [1e-5, 1e-4, 1e-3, 0.01, 0.1, 0.5, 1]:\n",
    "    if stats[l1][\"R2\"] > stats[best_l1][\"R2\"]:\n",
    "        best_l1 = l1\n",
    "print(stats[best_l1])"
   ]
  },
  {
   "cell_type": "markdown",
   "metadata": {},
   "source": [
    "The only unused feature is negative affect in the best LASSO model. This makes sense as its corollary feature positive affect is also present, so these values are likely heavily correlated and only one is useful."
   ]
  },
  {
   "cell_type": "markdown",
   "metadata": {},
   "source": []
  }
 ],
 "metadata": {
  "kernelspec": {
   "display_name": "Python 3 (ipykernel)",
   "language": "python",
   "name": "python3"
  },
  "language_info": {
   "codemirror_mode": {
    "name": "ipython",
    "version": 3
   },
   "file_extension": ".py",
   "mimetype": "text/x-python",
   "name": "python",
   "nbconvert_exporter": "python",
   "pygments_lexer": "ipython3",
   "version": "3.9.7"
  },
  "vscode": {
   "interpreter": {
    "hash": "26de051ba29f2982a8de78e945f0abaf191376122a1563185a90213a26c5da77"
   }
  }
 },
 "nbformat": 4,
 "nbformat_minor": 2
}
