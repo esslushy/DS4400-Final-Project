{
 "cells": [
  {
   "cell_type": "code",
   "execution_count": 1,
   "metadata": {},
   "outputs": [],
   "source": [
    "import numpy as np\n",
    "import pandas as pd\n",
    "from sklearn.linear_model import Lasso\n",
    "from sklearn.model_selection import train_test_split\n",
    "from sklearn.metrics import mean_squared_error, r2_score\n",
    "from utils import gather_data, mean_squared_percentage_error"
   ]
  },
  {
   "attachments": {},
   "cell_type": "markdown",
   "metadata": {},
   "source": [
    "# LASSO Model for Feature Selection\n",
    "The goal of this IPython notebook is to run a LASSO model and usee its results to determine if any features are extraneous."
   ]
  },
  {
   "cell_type": "code",
   "execution_count": 2,
   "metadata": {},
   "outputs": [
    {
     "name": "stdout",
     "output_type": "stream",
     "text": [
      "Index(['Log GDP per capita', 'Social support',\n",
      "       'Healthy life expectancy at birth', 'Freedom to make life choices',\n",
      "       'Generosity', 'Perceptions of corruption', 'Positive affect',\n",
      "       'Negative affect', 'Confidence in national government'],\n",
      "      dtype='object')\n"
     ]
    }
   ],
   "source": [
    "data, label = gather_data()"
   ]
  },
  {
   "cell_type": "code",
   "execution_count": 3,
   "metadata": {},
   "outputs": [],
   "source": [
    "x_train, x_test, y_train, y_test = train_test_split(data, label, test_size=0.2)"
   ]
  },
  {
   "cell_type": "code",
   "execution_count": 5,
   "metadata": {},
   "outputs": [
    {
     "data": {
      "text/plain": [
       "{1e-05: {'MSE': 0.28528353152409613,\n",
       "  'R2': 0.7656533804546745,\n",
       "  'MSPE': 0.885032221299466,\n",
       "  'coef': array([ 0.32575183,  1.79460966,  0.02890413,  0.97005944,  0.50701114,\n",
       "         -1.15606411,  1.86508058,  0.01361238, -0.78542654])},\n",
       " 0.0001: {'MSE': 0.28503591715362103,\n",
       "  'R2': 0.7658567836807972,\n",
       "  'MSPE': 0.8955430070055506,\n",
       "  'coef': array([ 0.32656538,  1.78184916,  0.02904222,  0.9647902 ,  0.50506916,\n",
       "         -1.14924375,  1.86298444,  0.        , -0.77824442])},\n",
       " 0.001: {'MSE': 0.2831132977538457,\n",
       "  'R2': 0.7674361225041865,\n",
       "  'MSPE': 0.9747723891761535,\n",
       "  'coef': array([ 0.33609256,  1.7009286 ,  0.02990318,  0.90477692,  0.48386235,\n",
       "         -1.09108188,  1.85526401, -0.        , -0.69900794])},\n",
       " 0.01: {'MSE': 0.29292759166876126,\n",
       "  'R2': 0.7593741548543278,\n",
       "  'MSPE': 1.9420202749464308,\n",
       "  'coef': array([ 0.42705628,  0.86699101,  0.03816476,  0.36282274,  0.27983398,\n",
       "         -0.55435455,  1.75360755, -0.        , -0.        ])},\n",
       " 0.1: {'MSE': 0.48444039817670703,\n",
       "  'R2': 0.6020556494186772,\n",
       "  'MSPE': 3.8300499917703887,\n",
       "  'coef': array([ 0.33670933,  0.        ,  0.07122283,  0.        ,  0.        ,\n",
       "         -0.        ,  0.        , -0.        ,  0.        ])},\n",
       " 0.5: {'MSE': 0.6310481849853673,\n",
       "  'R2': 0.4816244452265439,\n",
       "  'MSPE': 3.3880654650030597,\n",
       "  'coef': array([ 0.        ,  0.        ,  0.10971918,  0.        ,  0.        ,\n",
       "         -0.        ,  0.        , -0.        ,  0.        ])},\n",
       " 1: {'MSE': 0.6259466429454117,\n",
       "  'R2': 0.48581511520719434,\n",
       "  'MSPE': 4.934138093965143,\n",
       "  'coef': array([ 0.        ,  0.        ,  0.09995882,  0.        ,  0.        ,\n",
       "         -0.        ,  0.        , -0.        ,  0.        ])}}"
      ]
     },
     "execution_count": 5,
     "metadata": {},
     "output_type": "execute_result"
    }
   ],
   "source": [
    "stats = {}\n",
    "for l1 in [1e-5, 1e-4, 1e-3, 0.01, 0.1, 0.5, 1]:\n",
    "    lasso = Lasso(alpha=l1)\n",
    "    lasso.fit(x_train, y_train)\n",
    "    stats[l1] = {}\n",
    "    stats[l1][\"MSE\"] = mean_squared_error(y_test, lasso.predict(x_test))\n",
    "    stats[l1][\"R2\"] = r2_score(y_test, lasso.predict(x_test))\n",
    "    stats[l1][\"MSPE\"] = mean_squared_percentage_error(y_test, lasso.predict(x_test))\n",
    "    stats[l1][\"coef\"] = lasso.coef_\n",
    "stats"
   ]
  },
  {
   "cell_type": "code",
   "execution_count": 8,
   "metadata": {},
   "outputs": [
    {
     "name": "stdout",
     "output_type": "stream",
     "text": [
      "{'MSE': 0.2831132977538457, 'R2': 0.7674361225041865, 'MSPE': 0.9747723891761535, 'coef': array([ 0.33609256,  1.7009286 ,  0.02990318,  0.90477692,  0.48386235,\n",
      "       -1.09108188,  1.85526401, -0.        , -0.69900794])}\n"
     ]
    }
   ],
   "source": [
    "best_l1 = 1e-5\n",
    "for l1 in [1e-5, 1e-4, 1e-3, 0.01, 0.1, 0.5, 1]:\n",
    "    if stats[l1][\"R2\"] > stats[best_l1][\"R2\"]:\n",
    "        best_l1 = l1\n",
    "print(stats[best_l1])"
   ]
  },
  {
   "attachments": {},
   "cell_type": "markdown",
   "metadata": {},
   "source": [
    "The only unused feature is negative affect in the best LASSO model. This makes sense as its corollary feature positive affect is also present, so these values are likely heavily correlated and only one is useful."
   ]
  },
  {
   "cell_type": "markdown",
   "metadata": {},
   "source": []
  }
 ],
 "metadata": {
  "kernelspec": {
   "display_name": "Python 3",
   "language": "python",
   "name": "python3"
  },
  "language_info": {
   "codemirror_mode": {
    "name": "ipython",
    "version": 3
   },
   "file_extension": ".py",
   "mimetype": "text/x-python",
   "name": "python",
   "nbconvert_exporter": "python",
   "pygments_lexer": "ipython3",
   "version": "3.10.9"
  },
  "orig_nbformat": 4,
  "vscode": {
   "interpreter": {
    "hash": "26de051ba29f2982a8de78e945f0abaf191376122a1563185a90213a26c5da77"
   }
  }
 },
 "nbformat": 4,
 "nbformat_minor": 2
}
