{
 "cells": [
  {
   "cell_type": "code",
   "execution_count": 1,
   "id": "206aa82b-2095-4287-9f42-ece2aea139b5",
   "metadata": {},
   "outputs": [],
   "source": [
    "import numpy as np\n",
    "import pandas as pd\n",
    "from sklearn.model_selection import train_test_split\n",
    "from sklearn.model_selection import KFold\n",
    "from sklearn.metrics import mean_squared_error, r2_score\n",
    "from utils import *"
   ]
  },
  {
   "cell_type": "code",
   "execution_count": 2,
   "id": "a195a544-ef87-4a41-b628-52d114c5687a",
   "metadata": {},
   "outputs": [
    {
     "name": "stdout",
     "output_type": "stream",
     "text": [
      "Index(['Log GDP per capita', 'Social support',\n",
      "       'Healthy life expectancy at birth', 'Freedom to make life choices',\n",
      "       'Generosity', 'Perceptions of corruption', 'Positive affect',\n",
      "       'Negative affect', 'Confidence in national government'],\n",
      "      dtype='object')\n"
     ]
    }
   ],
   "source": [
    "data, label = gather_data()"
   ]
  },
  {
   "cell_type": "code",
   "execution_count": 3,
   "id": "c447433a-8cdb-46d4-b824-aff16800874b",
   "metadata": {},
   "outputs": [],
   "source": [
    "x_train, x_test, y_train, y_test = train_test_split(data, label, test_size=0.2)\n",
    "kfold = KFold(n_splits=10, shuffle=True)"
   ]
  },
  {
   "cell_type": "code",
   "execution_count": 4,
   "id": "ec4e2504-6eec-4d93-9b0d-e6cec26ef16c",
   "metadata": {},
   "outputs": [
    {
     "data": {
      "text/plain": [
       "array([[0.75150714, 0.87731832, 0.88067426, ..., 0.64660633, 0.30672413,\n",
       "        0.32789594],\n",
       "       [0.59635415, 0.87781447, 0.88540588, ..., 0.72172338, 0.19528414,\n",
       "        0.44285917],\n",
       "       [0.77983007, 0.86603862, 0.93242644, ..., 0.6314798 , 0.37016997,\n",
       "        0.23062515],\n",
       "       ...,\n",
       "       [0.7263043 , 0.8069393 , 0.84696143, ..., 0.5369854 , 0.24219675,\n",
       "        0.09994441],\n",
       "       [0.48791538, 0.87494594, 0.77155113, ..., 0.79759634, 0.19389972,\n",
       "        0.29383239],\n",
       "       [0.41894537, 0.72826999, 0.67751001, ..., 0.63727075, 0.19760665,\n",
       "        0.64116842]])"
      ]
     },
     "execution_count": 4,
     "metadata": {},
     "output_type": "execute_result"
    }
   ],
   "source": [
    "x_train"
   ]
  },
  {
   "cell_type": "code",
   "execution_count": 5,
   "id": "9cef6c59-c3a5-4204-8ea4-45e34e564c89",
   "metadata": {},
   "outputs": [
    {
     "data": {
      "text/plain": [
       "array([[0.75150714, 0.87731832, 0.88067426, ..., 0.30672413, 0.32789594,\n",
       "        1.        ],\n",
       "       [0.59635415, 0.87781447, 0.88540588, ..., 0.19528414, 0.44285917,\n",
       "        1.        ],\n",
       "       [0.77983007, 0.86603862, 0.93242644, ..., 0.37016997, 0.23062515,\n",
       "        1.        ],\n",
       "       ...,\n",
       "       [0.7263043 , 0.8069393 , 0.84696143, ..., 0.24219675, 0.09994441,\n",
       "        1.        ],\n",
       "       [0.48791538, 0.87494594, 0.77155113, ..., 0.19389972, 0.29383239,\n",
       "        1.        ],\n",
       "       [0.41894537, 0.72826999, 0.67751001, ..., 0.19760665, 0.64116842,\n",
       "        1.        ]])"
      ]
     },
     "execution_count": 5,
     "metadata": {},
     "output_type": "execute_result"
    }
   ],
   "source": [
    "basis_expansion(x_train,1)"
   ]
  },
  {
   "cell_type": "code",
   "execution_count": 6,
   "id": "e34fb8e9-6577-4985-8cd7-b25300137c5a",
   "metadata": {},
   "outputs": [
    {
     "data": {
      "text/plain": [
       "array([[0.75150714, 0.87731832, 0.88067426, ..., 0.09407969, 0.10751575,\n",
       "        1.        ],\n",
       "       [0.59635415, 0.87781447, 0.88540588, ..., 0.0381359 , 0.19612425,\n",
       "        1.        ],\n",
       "       [0.77983007, 0.86603862, 0.93242644, ..., 0.1370258 , 0.05318796,\n",
       "        1.        ],\n",
       "       ...,\n",
       "       [0.7263043 , 0.8069393 , 0.84696143, ..., 0.05865927, 0.00998889,\n",
       "        1.        ],\n",
       "       [0.48791538, 0.87494594, 0.77155113, ..., 0.0375971 , 0.08633747,\n",
       "        1.        ],\n",
       "       [0.41894537, 0.72826999, 0.67751001, ..., 0.03904839, 0.41109694,\n",
       "        1.        ]])"
      ]
     },
     "execution_count": 6,
     "metadata": {},
     "output_type": "execute_result"
    }
   ],
   "source": [
    "basis_expansion(x_train,2)"
   ]
  },
  {
   "cell_type": "code",
   "execution_count": 10,
   "id": "d8444ed1-5ca2-4f95-9a0f-4f8bafdad01e",
   "metadata": {},
   "outputs": [
    {
     "data": {
      "text/plain": [
       "[{'n': 1,\n",
       "  'MSE': 0.27427205717936187,\n",
       "  'R2': 0.7800287854798442,\n",
       "  'MSPE': 1.2873433920816841},\n",
       " {'n': 2,\n",
       "  'MSE': 0.24829537931000994,\n",
       "  'R2': 0.804840384031938,\n",
       "  'MSPE': 1.1544262139581418},\n",
       " {'n': 3,\n",
       "  'MSE': 0.24498755904552505,\n",
       "  'R2': 0.8055660081429897,\n",
       "  'MSPE': 1.1137325507294542},\n",
       " {'n': 4,\n",
       "  'MSE': 0.2490602268886802,\n",
       "  'R2': 0.8021698381986834,\n",
       "  'MSPE': 1.1560434175043863},\n",
       " {'n': 5,\n",
       "  'MSE': 0.2434038004850101,\n",
       "  'R2': 0.8066775776822832,\n",
       "  'MSPE': 1.1166305305533646},\n",
       " {'n': 6,\n",
       "  'MSE': 0.4878793811843388,\n",
       "  'R2': 0.6058048479579938,\n",
       "  'MSPE': 2.8458200114040246},\n",
       " {'n': 7,\n",
       "  'MSE': 1.3796742141552287,\n",
       "  'R2': -0.15434838141698073,\n",
       "  'MSPE': 9.092581555074048},\n",
       " {'n': 8,\n",
       "  'MSE': 1055.8611804423685,\n",
       "  'R2': -765.2131153698901,\n",
       "  'MSPE': 7487.567349885617}]"
      ]
     },
     "execution_count": 10,
     "metadata": {},
     "output_type": "execute_result"
    }
   ],
   "source": [
    "stats = []\n",
    "\n",
    "\n",
    "for i in range(1,9):\n",
    "    x_expansion = basis_expansion(x_train,i)\n",
    "    stat = {\n",
    "            \"n\": i,\n",
    "            \"MSE\": [],\n",
    "            \"R2\": [],\n",
    "            \"MSPE\": []\n",
    "    }\n",
    "    for train_index, val_index in kfold.split(x_expansion, y_train):\n",
    "        \n",
    "        model = RANSACRegressor(min_samples=10, max_trials=200,\n",
    "                             loss='absolute_error', random_state=12,\n",
    "                             residual_threshold=10)\n",
    "        model.fit(x_expansion[train_index], y_train[train_index])\n",
    "        stat[\"MSE\"].append(mean_squared_error(y_train[val_index], model.predict(x_expansion[val_index])))\n",
    "        stat[\"R2\"].append(r2_score(y_train[val_index], model.predict(x_expansion[val_index])))\n",
    "        stat[\"MSPE\"].append(mean_squared_percentage_error(y_train[val_index], model.predict(x_expansion[val_index])))\n",
    "    stat[\"MSE\"] = np.mean(stat[\"MSE\"])\n",
    "    stat[\"R2\"] = np.mean(stat[\"R2\"])\n",
    "    stat[\"MSPE\"] = np.mean(stat[\"MSPE\"])\n",
    "    stats.append(stat)\n",
    "stats"
   ]
  },
  {
   "cell_type": "code",
   "execution_count": null,
   "id": "03c83a08-ff0e-4923-b6d5-06e99e0a25a8",
   "metadata": {},
   "outputs": [],
   "source": []
  }
 ],
 "metadata": {
  "kernelspec": {
   "display_name": "Python 3 (ipykernel)",
   "language": "python",
   "name": "python3"
  },
  "language_info": {
   "codemirror_mode": {
    "name": "ipython",
    "version": 3
   },
   "file_extension": ".py",
   "mimetype": "text/x-python",
   "name": "python",
   "nbconvert_exporter": "python",
   "pygments_lexer": "ipython3",
   "version": "3.9.13"
  }
 },
 "nbformat": 4,
 "nbformat_minor": 5
}
