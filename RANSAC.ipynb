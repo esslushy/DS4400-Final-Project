{
 "cells": [
  {
   "cell_type": "code",
   "execution_count": 2,
   "id": "206aa82b-2095-4287-9f42-ece2aea139b5",
   "metadata": {},
   "outputs": [],
   "source": [
    "import numpy as np\n",
    "import pandas as pd\n",
    "from sklearn.linear_model import RANSACRegressor\n",
    "from sklearn.model_selection import train_test_split\n",
    "from sklearn.model_selection import KFold\n",
    "from sklearn.metrics import mean_squared_error, r2_score\n",
    "from utils import *"
   ]
  },
  {
   "cell_type": "code",
   "execution_count": 4,
   "id": "a195a544-ef87-4a41-b628-52d114c5687a",
   "metadata": {},
   "outputs": [
    {
     "name": "stdout",
     "output_type": "stream",
     "text": [
      "Index(['Log GDP per capita', 'Social support',\n",
      "       'Healthy life expectancy at birth', 'Freedom to make life choices',\n",
      "       'Generosity', 'Perceptions of corruption', 'Positive affect',\n",
      "       'Negative affect', 'Confidence in national government'],\n",
      "      dtype='object')\n"
     ]
    }
   ],
   "source": [
    "data, label = gather_data()"
   ]
  },
  {
   "cell_type": "code",
   "execution_count": 5,
   "id": "c447433a-8cdb-46d4-b824-aff16800874b",
   "metadata": {},
   "outputs": [],
   "source": [
    "x_train, x_test, y_train, y_test = train_test_split(data, label, test_size=0.2)\n",
    "kfold = KFold(n_splits=10, shuffle=True)"
   ]
  },
  {
   "cell_type": "code",
   "execution_count": 6,
   "id": "ec4e2504-6eec-4d93-9b0d-e6cec26ef16c",
   "metadata": {},
   "outputs": [
    {
     "data": {
      "text/plain": [
       "array([[0.62946575, 0.85013747, 0.85997336, ..., 0.65389031, 0.32941639,\n",
       "        0.53804529],\n",
       "       [0.95002308, 0.80791056, 0.9776726 , ..., 0.66285312, 0.14768755,\n",
       "        0.85616577],\n",
       "       [0.57848157, 0.86955368, 0.88540588, ..., 0.71200293, 0.26641792,\n",
       "        0.5922662 ],\n",
       "       ...,\n",
       "       [0.54956506, 0.85905248, 0.78929469, ..., 0.80473065, 0.23561792,\n",
       "        0.34004632],\n",
       "       [0.90342677, 0.93833929, 0.95549309, ..., 0.74078178, 0.20158459,\n",
       "        0.5779885 ],\n",
       "       [0.39133609, 0.82295787, 0.75232884, ..., 0.69422931, 0.16507852,\n",
       "        0.61491633]])"
      ]
     },
     "execution_count": 6,
     "metadata": {},
     "output_type": "execute_result"
    }
   ],
   "source": [
    "x_train"
   ]
  },
  {
   "cell_type": "code",
   "execution_count": 7,
   "id": "9cef6c59-c3a5-4204-8ea4-45e34e564c89",
   "metadata": {},
   "outputs": [
    {
     "data": {
      "text/plain": [
       "array([[0.62946575, 0.85013747, 0.85997336, ..., 0.32941639, 0.53804529,\n",
       "        1.        ],\n",
       "       [0.95002308, 0.80791056, 0.9776726 , ..., 0.14768755, 0.85616577,\n",
       "        1.        ],\n",
       "       [0.57848157, 0.86955368, 0.88540588, ..., 0.26641792, 0.5922662 ,\n",
       "        1.        ],\n",
       "       ...,\n",
       "       [0.54956506, 0.85905248, 0.78929469, ..., 0.23561792, 0.34004632,\n",
       "        1.        ],\n",
       "       [0.90342677, 0.93833929, 0.95549309, ..., 0.20158459, 0.5779885 ,\n",
       "        1.        ],\n",
       "       [0.39133609, 0.82295787, 0.75232884, ..., 0.16507852, 0.61491633,\n",
       "        1.        ]])"
      ]
     },
     "execution_count": 7,
     "metadata": {},
     "output_type": "execute_result"
    }
   ],
   "source": [
    "basis_expansion(x_train,1)"
   ]
  },
  {
   "cell_type": "code",
   "execution_count": 6,
   "id": "e34fb8e9-6577-4985-8cd7-b25300137c5a",
   "metadata": {},
   "outputs": [
    {
     "data": {
      "text/plain": [
       "array([[0.67702472, 0.77658302, 0.87431613, ..., 0.05931622, 0.04740117,\n",
       "        1.        ],\n",
       "       [0.77484071, 0.8831805 , 0.85346745, ..., 0.08175565, 0.1470603 ,\n",
       "        1.        ],\n",
       "       [0.84621312, 0.94086909, 0.93952393, ..., 0.0378974 , 0.17689909,\n",
       "        1.        ],\n",
       "       ...,\n",
       "       [0.72311072, 0.77042299, 0.86884526, ..., 0.02398626, 0.61777147,\n",
       "        1.        ],\n",
       "       [0.9183826 , 0.930291  , 0.96968808, ..., 0.03667997, 0.72246508,\n",
       "        1.        ],\n",
       "       [0.59293672, 0.88034195, 0.82359899, ..., 0.10503943, 0.91870756,\n",
       "        1.        ]])"
      ]
     },
     "execution_count": 6,
     "metadata": {},
     "output_type": "execute_result"
    }
   ],
   "source": [
    "basis_expansion(x_train,2)"
   ]
  },
  {
   "cell_type": "code",
   "execution_count": 8,
   "id": "d8444ed1-5ca2-4f95-9a0f-4f8bafdad01e",
   "metadata": {},
   "outputs": [
    {
     "data": {
      "text/plain": [
       "[{'n': 1,\n",
       "  'MSE': 0.2866886008309331,\n",
       "  'R2': 0.7772896223678832,\n",
       "  'MSPE': 1.4068412379199213},\n",
       " {'n': 2,\n",
       "  'MSE': 0.26335811972573187,\n",
       "  'R2': 0.7947103104641323,\n",
       "  'MSPE': 1.2721431552573885},\n",
       " {'n': 3,\n",
       "  'MSE': 0.25608917586200086,\n",
       "  'R2': 0.7993569340806339,\n",
       "  'MSPE': 1.1913242700075368},\n",
       " {'n': 4,\n",
       "  'MSE': 0.25650162337488824,\n",
       "  'R2': 0.7977477553748266,\n",
       "  'MSPE': 1.1995513869034449},\n",
       " {'n': 5,\n",
       "  'MSE': 0.3674457390536509,\n",
       "  'R2': 0.726128090275125,\n",
       "  'MSPE': 1.6176034072536385},\n",
       " {'n': 6,\n",
       "  'MSE': 0.48854315459610803,\n",
       "  'R2': 0.6106053104797614,\n",
       "  'MSPE': 2.064126690880401},\n",
       " {'n': 7,\n",
       "  'MSE': 0.25642629834310443,\n",
       "  'R2': 0.7993880896907081,\n",
       "  'MSPE': 1.2141238032953334},\n",
       " {'n': 8,\n",
       "  'MSE': 92.62369493589053,\n",
       "  'R2': -66.20569328738223,\n",
       "  'MSPE': 624.1116070926965}]"
      ]
     },
     "execution_count": 8,
     "metadata": {},
     "output_type": "execute_result"
    }
   ],
   "source": [
    "stats = []\n",
    "best_stat = []\n",
    "\n",
    "temp = {\n",
    "    \"n\": -1,\n",
    "    \"MSE\": -1,\n",
    "    \"R2\": -1,\n",
    "    \"MSPE\": -1,\n",
    "    \"Depth\": -1\n",
    "}\n",
    "\n",
    "best_stat.append(temp)\n",
    "\n",
    "\n",
    "for i in range(1,9):\n",
    "    x_expansion = basis_expansion(x_train,i)\n",
    "    stat = {\n",
    "            \"n\": i,\n",
    "            \"MSE\": [],\n",
    "            \"R2\": [],\n",
    "            \"MSPE\": []\n",
    "    }\n",
    "    for train_index, val_index in kfold.split(x_expansion, y_train):\n",
    "        \n",
    "        model = RANSACRegressor(min_samples=10, max_trials=200,\n",
    "                             loss='absolute_error', random_state=12,\n",
    "                             residual_threshold=10)\n",
    "        model.fit(x_expansion[train_index], y_train[train_index])\n",
    "        stat[\"MSE\"].append(mean_squared_error(y_train[val_index], model.predict(x_expansion[val_index])))\n",
    "        stat[\"R2\"].append(r2_score(y_train[val_index], model.predict(x_expansion[val_index])))\n",
    "        stat[\"MSPE\"].append(mean_squared_percentage_error(y_train[val_index], model.predict(x_expansion[val_index])))\n",
    "    stat[\"MSE\"] = np.mean(stat[\"MSE\"])\n",
    "    stat[\"R2\"] = np.mean(stat[\"R2\"])\n",
    "    stat[\"MSPE\"] = np.mean(stat[\"MSPE\"])\n",
    "    stats.append(stat)\n",
    "    if stat[\"R2\"] > best_stat[0][\"R2\"]:\n",
    "        best_stat.pop()\n",
    "        best_stat.append(stat)\n",
    "stats"
   ]
  },
  {
   "cell_type": "code",
   "execution_count": 56,
   "id": "03c83a08-ff0e-4923-b6d5-06e99e0a25a8",
   "metadata": {},
   "outputs": [
    {
     "data": {
      "text/plain": [
       "[{'n': 7,\n",
       "  'MSE': 0.25642629834310443,\n",
       "  'R2': 0.7993880896907081,\n",
       "  'MSPE': 1.2141238032953334}]"
      ]
     },
     "execution_count": 56,
     "metadata": {},
     "output_type": "execute_result"
    }
   ],
   "source": [
    "best_stat"
   ]
  },
  {
   "cell_type": "code",
   "execution_count": 51,
   "id": "0f9fec34",
   "metadata": {},
   "outputs": [],
   "source": [
    "x_train, x_test, y_train, y_test = train_test_split(data, label, test_size=0.2)\n",
    "x_train = basis_expansion(x_train,best_stat[0][\"n\"])\n",
    "x_test = basis_expansion(x_test,best_stat[0][\"n\"])"
   ]
  },
  {
   "cell_type": "code",
   "execution_count": 52,
   "id": "0f70c5a0",
   "metadata": {},
   "outputs": [],
   "source": [
    "model = RANSACRegressor(min_samples=10, max_trials=200,\n",
    "                             loss='absolute_error', random_state=12,\n",
    "                             residual_threshold=10)\n",
    "model.fit(x_train, y_train)\n",
    "mse = mean_squared_error(y_test, model.predict(x_test))\n",
    "r_2 = r2_score(y_test, model.predict(x_test))\n",
    "mspe = mean_squared_percentage_error(y_test, model.predict(x_test))"
   ]
  },
  {
   "cell_type": "code",
   "execution_count": 53,
   "id": "3af2616e-6f7a-47ed-9d18-77973ad026c4",
   "metadata": {},
   "outputs": [
    {
     "data": {
      "text/plain": [
       "0.22253287441387032"
      ]
     },
     "execution_count": 53,
     "metadata": {},
     "output_type": "execute_result"
    }
   ],
   "source": [
    "mse"
   ]
  },
  {
   "cell_type": "code",
   "execution_count": 54,
   "id": "45a50f2b-45a0-4a5d-b486-7c188d217356",
   "metadata": {},
   "outputs": [
    {
     "data": {
      "text/plain": [
       "0.833638714292985"
      ]
     },
     "execution_count": 54,
     "metadata": {},
     "output_type": "execute_result"
    }
   ],
   "source": [
    "r_2"
   ]
  },
  {
   "cell_type": "code",
   "execution_count": 55,
   "id": "657ff6a4-d4db-45c6-93d9-fd8209d70594",
   "metadata": {},
   "outputs": [
    {
     "data": {
      "text/plain": [
       "0.9921272945840178"
      ]
     },
     "execution_count": 55,
     "metadata": {},
     "output_type": "execute_result"
    }
   ],
   "source": [
    "mspe"
   ]
  },
  {
   "cell_type": "code",
   "execution_count": null,
   "id": "6679845d-a0eb-444d-accc-480855dd3ce8",
   "metadata": {},
   "outputs": [],
   "source": []
  }
 ],
 "metadata": {
  "kernelspec": {
   "display_name": "Python 3 (ipykernel)",
   "language": "python",
   "name": "python3"
  },
  "language_info": {
   "codemirror_mode": {
    "name": "ipython",
    "version": 3
   },
   "file_extension": ".py",
   "mimetype": "text/x-python",
   "name": "python",
   "nbconvert_exporter": "python",
   "pygments_lexer": "ipython3",
   "version": "3.9.13"
  }
 },
 "nbformat": 4,
 "nbformat_minor": 5
}
