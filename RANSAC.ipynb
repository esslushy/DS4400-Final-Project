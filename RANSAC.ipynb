{
 "cells": [
  {
   "cell_type": "code",
   "execution_count": 1,
   "id": "206aa82b-2095-4287-9f42-ece2aea139b5",
   "metadata": {},
   "outputs": [],
   "source": [
    "import numpy as np\n",
    "import pandas as pd\n",
    "from sklearn.linear_model import RANSACRegressor\n",
    "from sklearn.model_selection import train_test_split\n",
    "from sklearn.model_selection import KFold\n",
    "from sklearn.metrics import mean_squared_error, r2_score\n",
    "from utils import *"
   ]
  },
  {
   "cell_type": "code",
   "execution_count": null,
   "id": "a195a544-ef87-4a41-b628-52d114c5687a",
   "metadata": {},
   "outputs": [],
   "source": []
  },
  {
   "cell_type": "code",
   "execution_count": 2,
   "id": "c447433a-8cdb-46d4-b824-aff16800874b",
   "metadata": {},
   "outputs": [
    {
     "name": "stdout",
     "output_type": "stream",
     "text": [
      "Index(['Log GDP per capita', 'Social support',\n",
      "       'Healthy life expectancy at birth', 'Freedom to make life choices',\n",
      "       'Generosity', 'Perceptions of corruption', 'Positive affect',\n",
      "       'Negative affect', 'Confidence in national government'],\n",
      "      dtype='object')\n"
     ]
    }
   ],
   "source": [
    "x_train, x_test, y_train, y_test = gather_data()\n",
    "kfold = KFold(n_splits=10, shuffle=True)"
   ]
  },
  {
   "cell_type": "code",
   "execution_count": 3,
   "id": "ec4e2504-6eec-4d93-9b0d-e6cec26ef16c",
   "metadata": {},
   "outputs": [
    {
     "data": {
      "text/plain": [
       "array([[0.59691466, 0.54038894, 0.84252554, ..., 0.40171635, 0.24253631,\n",
       "        0.61630201],\n",
       "       [0.3711317 , 0.63775593, 0.74567504, ..., 0.64917082, 0.24598596,\n",
       "        0.89956087],\n",
       "       [0.92383477, 0.95814401, 0.94750857, ..., 0.74425793, 0.21106331,\n",
       "        0.57473975],\n",
       "       ...,\n",
       "       [0.54243438, 0.81330019, 0.81502294, ..., 0.78726292, 0.33403653,\n",
       "        0.68708342],\n",
       "       [0.44528346, 0.83141011, 0.70708269, ..., 0.66721171, 0.19417724,\n",
       "        0.40184477],\n",
       "       [0.70435793, 0.92250597, 0.84666569, ..., 0.54543263, 0.20621966,\n",
       "        0.50782478]])"
      ]
     },
     "execution_count": 3,
     "metadata": {},
     "output_type": "execute_result"
    }
   ],
   "source": [
    "x_train"
   ]
  },
  {
   "cell_type": "code",
   "execution_count": 4,
   "id": "9cef6c59-c3a5-4204-8ea4-45e34e564c89",
   "metadata": {},
   "outputs": [
    {
     "data": {
      "text/plain": [
       "array([[0.59691466, 0.54038894, 0.84252554, ..., 0.24253631, 0.61630201,\n",
       "        1.        ],\n",
       "       [0.3711317 , 0.63775593, 0.74567504, ..., 0.24598596, 0.89956087,\n",
       "        1.        ],\n",
       "       [0.92383477, 0.95814401, 0.94750857, ..., 0.21106331, 0.57473975,\n",
       "        1.        ],\n",
       "       ...,\n",
       "       [0.54243438, 0.81330019, 0.81502294, ..., 0.33403653, 0.68708342,\n",
       "        1.        ],\n",
       "       [0.44528346, 0.83141011, 0.70708269, ..., 0.19417724, 0.40184477,\n",
       "        1.        ],\n",
       "       [0.70435793, 0.92250597, 0.84666569, ..., 0.20621966, 0.50782478,\n",
       "        1.        ]])"
      ]
     },
     "execution_count": 4,
     "metadata": {},
     "output_type": "execute_result"
    }
   ],
   "source": [
    "basis_expansion(x_train,1)"
   ]
  },
  {
   "cell_type": "code",
   "execution_count": 5,
   "id": "e34fb8e9-6577-4985-8cd7-b25300137c5a",
   "metadata": {},
   "outputs": [
    {
     "data": {
      "text/plain": [
       "array([[0.59691466, 0.54038894, 0.84252554, ..., 0.05882386, 0.37982817,\n",
       "        1.        ],\n",
       "       [0.3711317 , 0.63775593, 0.74567504, ..., 0.06050909, 0.80920976,\n",
       "        1.        ],\n",
       "       [0.92383477, 0.95814401, 0.94750857, ..., 0.04454772, 0.33032578,\n",
       "        1.        ],\n",
       "       ...,\n",
       "       [0.54243438, 0.81330019, 0.81502294, ..., 0.1115804 , 0.47208363,\n",
       "        1.        ],\n",
       "       [0.44528346, 0.83141011, 0.70708269, ..., 0.0377048 , 0.16147922,\n",
       "        1.        ],\n",
       "       [0.70435793, 0.92250597, 0.84666569, ..., 0.04252655, 0.25788601,\n",
       "        1.        ]])"
      ]
     },
     "execution_count": 5,
     "metadata": {},
     "output_type": "execute_result"
    }
   ],
   "source": [
    "basis_expansion(x_train,2)"
   ]
  },
  {
   "cell_type": "code",
   "execution_count": 6,
   "id": "d8444ed1-5ca2-4f95-9a0f-4f8bafdad01e",
   "metadata": {},
   "outputs": [
    {
     "data": {
      "text/plain": [
       "[{'n': 1,\n",
       "  'MSE': 0.2907790177284104,\n",
       "  'R2': 0.7729220421248381,\n",
       "  'MSPE': 1.405066806845282},\n",
       " {'n': 2,\n",
       "  'MSE': 0.26388404458731884,\n",
       "  'R2': 0.7933153976455418,\n",
       "  'MSPE': 1.255984080565467},\n",
       " {'n': 3,\n",
       "  'MSE': 0.2743758153039756,\n",
       "  'R2': 0.7836307891467473,\n",
       "  'MSPE': 1.3012282394349586},\n",
       " {'n': 4,\n",
       "  'MSE': 0.3091953048498569,\n",
       "  'R2': 0.7598518617142409,\n",
       "  'MSPE': 1.5600695844836354},\n",
       " {'n': 5,\n",
       "  'MSE': 0.27245389380555385,\n",
       "  'R2': 0.7846017055485179,\n",
       "  'MSPE': 1.293741094821753},\n",
       " {'n': 6,\n",
       "  'MSE': 7.8959115748444875,\n",
       "  'R2': -5.618504567632564,\n",
       "  'MSPE': 55.37914898948425},\n",
       " {'n': 7,\n",
       "  'MSE': 147493.1338142447,\n",
       "  'R2': -105983.3513193551,\n",
       "  'MSPE': 1046517.3006092433},\n",
       " {'n': 8,\n",
       "  'MSE': 52703.418133433115,\n",
       "  'R2': -37204.89454853794,\n",
       "  'MSPE': 373949.4799212336}]"
      ]
     },
     "execution_count": 6,
     "metadata": {},
     "output_type": "execute_result"
    }
   ],
   "source": [
    "stats = []\n",
    "best_stat = []\n",
    "\n",
    "temp = {\n",
    "    \"n\": -1,\n",
    "    \"MSE\": -1,\n",
    "    \"R2\": -1,\n",
    "    \"MSPE\": -1,\n",
    "    \"Depth\": -1\n",
    "}\n",
    "\n",
    "best_stat.append(temp)\n",
    "\n",
    "\n",
    "for i in range(1,9):\n",
    "    x_expansion = basis_expansion(x_train,i)\n",
    "    stat = {\n",
    "            \"n\": i,\n",
    "            \"MSE\": [],\n",
    "            \"R2\": [],\n",
    "            \"MSPE\": []\n",
    "    }\n",
    "    for train_index, val_index in kfold.split(x_expansion, y_train):\n",
    "        \n",
    "        model = RANSACRegressor(min_samples=10, max_trials=200,\n",
    "                             loss='absolute_error', random_state=12,\n",
    "                             residual_threshold=10)\n",
    "        model.fit(x_expansion[train_index], y_train[train_index])\n",
    "        stat[\"MSE\"].append(mean_squared_error(y_train[val_index], model.predict(x_expansion[val_index])))\n",
    "        stat[\"R2\"].append(r2_score(y_train[val_index], model.predict(x_expansion[val_index])))\n",
    "        stat[\"MSPE\"].append(mean_squared_percentage_error(y_train[val_index], model.predict(x_expansion[val_index])))\n",
    "    stat[\"MSE\"] = np.mean(stat[\"MSE\"])\n",
    "    stat[\"R2\"] = np.mean(stat[\"R2\"])\n",
    "    stat[\"MSPE\"] = np.mean(stat[\"MSPE\"])\n",
    "    stats.append(stat)\n",
    "    if stat[\"R2\"] > best_stat[0][\"R2\"]:\n",
    "        best_stat.pop()\n",
    "        best_stat.append(stat)\n",
    "stats"
   ]
  },
  {
   "cell_type": "code",
   "execution_count": 7,
   "id": "03c83a08-ff0e-4923-b6d5-06e99e0a25a8",
   "metadata": {},
   "outputs": [
    {
     "data": {
      "text/plain": [
       "[{'n': 2,\n",
       "  'MSE': 0.26388404458731884,\n",
       "  'R2': 0.7933153976455418,\n",
       "  'MSPE': 1.255984080565467}]"
      ]
     },
     "execution_count": 7,
     "metadata": {},
     "output_type": "execute_result"
    }
   ],
   "source": [
    "best_stat"
   ]
  },
  {
   "cell_type": "code",
   "execution_count": 8,
   "id": "0f9fec34",
   "metadata": {},
   "outputs": [],
   "source": [
    "x_train = basis_expansion(x_train,best_stat[0][\"n\"])\n",
    "x_test = basis_expansion(x_test,best_stat[0][\"n\"])"
   ]
  },
  {
   "cell_type": "code",
   "execution_count": 9,
   "id": "0f70c5a0",
   "metadata": {},
   "outputs": [],
   "source": [
    "model = RANSACRegressor(min_samples=10, max_trials=200,\n",
    "                             loss='absolute_error', random_state=12,\n",
    "                             residual_threshold=10)\n",
    "model.fit(x_train, y_train)\n",
    "mse = mean_squared_error(y_test, model.predict(x_test))\n",
    "r_2 = r2_score(y_test, model.predict(x_test))\n",
    "mspe = mean_squared_percentage_error(y_test, model.predict(x_test))"
   ]
  },
  {
   "cell_type": "code",
   "execution_count": 10,
   "id": "3af2616e-6f7a-47ed-9d18-77973ad026c4",
   "metadata": {},
   "outputs": [
    {
     "data": {
      "text/plain": [
       "0.23420397817920552"
      ]
     },
     "execution_count": 10,
     "metadata": {},
     "output_type": "execute_result"
    }
   ],
   "source": [
    "mse"
   ]
  },
  {
   "cell_type": "code",
   "execution_count": 11,
   "id": "45a50f2b-45a0-4a5d-b486-7c188d217356",
   "metadata": {},
   "outputs": [
    {
     "data": {
      "text/plain": [
       "0.8318889692591606"
      ]
     },
     "execution_count": 11,
     "metadata": {},
     "output_type": "execute_result"
    }
   ],
   "source": [
    "r_2"
   ]
  },
  {
   "cell_type": "code",
   "execution_count": 12,
   "id": "657ff6a4-d4db-45c6-93d9-fd8209d70594",
   "metadata": {},
   "outputs": [
    {
     "data": {
      "text/plain": [
       "1.183527215943002"
      ]
     },
     "execution_count": 12,
     "metadata": {},
     "output_type": "execute_result"
    }
   ],
   "source": [
    "mspe"
   ]
  },
  {
   "cell_type": "code",
   "execution_count": null,
   "id": "6679845d-a0eb-444d-accc-480855dd3ce8",
   "metadata": {},
   "outputs": [],
   "source": []
  }
 ],
 "metadata": {
  "kernelspec": {
   "display_name": "Python 3 (ipykernel)",
   "language": "python",
   "name": "python3"
  },
  "language_info": {
   "codemirror_mode": {
    "name": "ipython",
    "version": 3
   },
   "file_extension": ".py",
   "mimetype": "text/x-python",
   "name": "python",
   "nbconvert_exporter": "python",
   "pygments_lexer": "ipython3",
   "version": "3.9.13"
  }
 },
 "nbformat": 4,
 "nbformat_minor": 5
}
