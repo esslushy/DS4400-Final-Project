{
 "cells": [
  {
   "cell_type": "code",
   "execution_count": 1,
   "id": "206aa82b-2095-4287-9f42-ece2aea139b5",
   "metadata": {},
   "outputs": [],
   "source": [
    "import numpy as np\n",
    "import pandas as pd\n",
    "from sklearn.linear_model import RANSACRegressor\n",
    "from sklearn.model_selection import train_test_split\n",
    "from sklearn.model_selection import KFold\n",
    "from sklearn.metrics import mean_squared_error, r2_score\n",
    "from utils import *"
   ]
  },
  {
   "cell_type": "code",
   "execution_count": 2,
   "id": "a195a544-ef87-4a41-b628-52d114c5687a",
   "metadata": {},
   "outputs": [
    {
     "name": "stdout",
     "output_type": "stream",
     "text": [
      "Index(['Log GDP per capita', 'Social support',\n",
      "       'Healthy life expectancy at birth', 'Freedom to make life choices',\n",
      "       'Generosity', 'Perceptions of corruption', 'Positive affect',\n",
      "       'Negative affect', 'Confidence in national government'],\n",
      "      dtype='object')\n"
     ]
    }
   ],
   "source": [
    "data, label = gather_data()"
   ]
  },
  {
   "cell_type": "code",
   "execution_count": 3,
   "id": "c447433a-8cdb-46d4-b824-aff16800874b",
   "metadata": {},
   "outputs": [],
   "source": [
    "x_train, x_test, y_train, y_test = train_test_split(data, label, test_size=0.2)\n",
    "kfold = KFold(n_splits=10, shuffle=True)"
   ]
  },
  {
   "cell_type": "code",
   "execution_count": 4,
   "id": "ec4e2504-6eec-4d93-9b0d-e6cec26ef16c",
   "metadata": {},
   "outputs": [
    {
     "data": {
      "text/plain": [
       "array([[0.67702472, 0.77658302, 0.87431613, ..., 0.46946874, 0.24354921,\n",
       "        0.2177181 ],\n",
       "       [0.77484071, 0.8831805 , 0.85346745, ..., 0.76394188, 0.28592944,\n",
       "        0.38348442],\n",
       "       [0.84621312, 0.94086909, 0.93952393, ..., 0.75164288, 0.19467255,\n",
       "        0.42059374],\n",
       "       ...,\n",
       "       [0.72311072, 0.77042299, 0.86884526, ..., 0.78543299, 0.15487497,\n",
       "        0.7859844 ],\n",
       "       [0.9183826 , 0.930291  , 0.96968808, ..., 0.75563037, 0.19152015,\n",
       "        0.84997946],\n",
       "       [0.59293672, 0.88034195, 0.82359899, ..., 0.77463913, 0.32409787,\n",
       "        0.95849234]])"
      ]
     },
     "execution_count": 4,
     "metadata": {},
     "output_type": "execute_result"
    }
   ],
   "source": [
    "x_train"
   ]
  },
  {
   "cell_type": "code",
   "execution_count": 5,
   "id": "9cef6c59-c3a5-4204-8ea4-45e34e564c89",
   "metadata": {},
   "outputs": [
    {
     "data": {
      "text/plain": [
       "array([[0.67702472, 0.77658302, 0.87431613, ..., 0.24354921, 0.2177181 ,\n",
       "        1.        ],\n",
       "       [0.77484071, 0.8831805 , 0.85346745, ..., 0.28592944, 0.38348442,\n",
       "        1.        ],\n",
       "       [0.84621312, 0.94086909, 0.93952393, ..., 0.19467255, 0.42059374,\n",
       "        1.        ],\n",
       "       ...,\n",
       "       [0.72311072, 0.77042299, 0.86884526, ..., 0.15487497, 0.7859844 ,\n",
       "        1.        ],\n",
       "       [0.9183826 , 0.930291  , 0.96968808, ..., 0.19152015, 0.84997946,\n",
       "        1.        ],\n",
       "       [0.59293672, 0.88034195, 0.82359899, ..., 0.32409787, 0.95849234,\n",
       "        1.        ]])"
      ]
     },
     "execution_count": 5,
     "metadata": {},
     "output_type": "execute_result"
    }
   ],
   "source": [
    "basis_expansion(x_train,1)"
   ]
  },
  {
   "cell_type": "code",
   "execution_count": 6,
   "id": "e34fb8e9-6577-4985-8cd7-b25300137c5a",
   "metadata": {},
   "outputs": [
    {
     "data": {
      "text/plain": [
       "array([[0.67702472, 0.77658302, 0.87431613, ..., 0.05931622, 0.04740117,\n",
       "        1.        ],\n",
       "       [0.77484071, 0.8831805 , 0.85346745, ..., 0.08175565, 0.1470603 ,\n",
       "        1.        ],\n",
       "       [0.84621312, 0.94086909, 0.93952393, ..., 0.0378974 , 0.17689909,\n",
       "        1.        ],\n",
       "       ...,\n",
       "       [0.72311072, 0.77042299, 0.86884526, ..., 0.02398626, 0.61777147,\n",
       "        1.        ],\n",
       "       [0.9183826 , 0.930291  , 0.96968808, ..., 0.03667997, 0.72246508,\n",
       "        1.        ],\n",
       "       [0.59293672, 0.88034195, 0.82359899, ..., 0.10503943, 0.91870756,\n",
       "        1.        ]])"
      ]
     },
     "execution_count": 6,
     "metadata": {},
     "output_type": "execute_result"
    }
   ],
   "source": [
    "basis_expansion(x_train,2)"
   ]
  },
  {
   "cell_type": "code",
   "execution_count": 18,
   "id": "d8444ed1-5ca2-4f95-9a0f-4f8bafdad01e",
   "metadata": {},
   "outputs": [
    {
     "data": {
      "text/plain": [
       "[{'n': 1,\n",
       "  'MSE': 0.2919016876256395,\n",
       "  'R2': 0.7745547199067422,\n",
       "  'MSPE': 1.4328460073369809},\n",
       " {'n': 2,\n",
       "  'MSE': 0.2627993569937172,\n",
       "  'R2': 0.7960863583575651,\n",
       "  'MSPE': 1.2715430453847372},\n",
       " {'n': 3,\n",
       "  'MSE': 0.3865369004073157,\n",
       "  'R2': 0.6931058496640035,\n",
       "  'MSPE': 2.1055857293557394},\n",
       " {'n': 4,\n",
       "  'MSE': 0.341507729612715,\n",
       "  'R2': 0.7398681201737876,\n",
       "  'MSPE': 1.8240878384851527},\n",
       " {'n': 5,\n",
       "  'MSE': 0.48402243595445454,\n",
       "  'R2': 0.6261220416493305,\n",
       "  'MSPE': 2.802785294956966},\n",
       " {'n': 6,\n",
       "  'MSE': 1.8959202343589485,\n",
       "  'R2': -0.4021321408334592,\n",
       "  'MSPE': 12.96451080167295},\n",
       " {'n': 7,\n",
       "  'MSE': 7893.3164234168335,\n",
       "  'R2': -6144.615190156609,\n",
       "  'MSPE': 56005.200034594},\n",
       " {'n': 8,\n",
       "  'MSE': 53765.75756854046,\n",
       "  'R2': -49709.24323019075,\n",
       "  'MSPE': 381487.92417979613}]"
      ]
     },
     "execution_count": 18,
     "metadata": {},
     "output_type": "execute_result"
    }
   ],
   "source": [
    "stats = []\n",
    "best_stat = []\n",
    "\n",
    "temp = {\n",
    "    \"n\": -1,\n",
    "    \"MSE\": -1,\n",
    "    \"R2\": -1,\n",
    "    \"MSPE\": -1,\n",
    "    \"Depth\": -1\n",
    "}\n",
    "\n",
    "best_stat.append(temp)\n",
    "\n",
    "\n",
    "for i in range(1,9):\n",
    "    x_expansion = basis_expansion(x_train,i)\n",
    "    stat = {\n",
    "            \"n\": i,\n",
    "            \"MSE\": [],\n",
    "            \"R2\": [],\n",
    "            \"MSPE\": []\n",
    "    }\n",
    "    for train_index, val_index in kfold.split(x_expansion, y_train):\n",
    "        \n",
    "        model = RANSACRegressor(min_samples=10, max_trials=200,\n",
    "                             loss='absolute_error', random_state=12,\n",
    "                             residual_threshold=10)\n",
    "        model.fit(x_expansion[train_index], y_train[train_index])\n",
    "        stat[\"MSE\"].append(mean_squared_error(y_train[val_index], model.predict(x_expansion[val_index])))\n",
    "        stat[\"R2\"].append(r2_score(y_train[val_index], model.predict(x_expansion[val_index])))\n",
    "        stat[\"MSPE\"].append(mean_squared_percentage_error(y_train[val_index], model.predict(x_expansion[val_index])))\n",
    "    stat[\"MSE\"] = np.mean(stat[\"MSE\"])\n",
    "    stat[\"R2\"] = np.mean(stat[\"R2\"])\n",
    "    stat[\"MSPE\"] = np.mean(stat[\"MSPE\"])\n",
    "    stats.append(stat)\n",
    "    if stat[\"R2\"] > best_stat[0][\"R2\"]:\n",
    "        best_stat.pop()\n",
    "        best_stat.append(stat)\n",
    "stats"
   ]
  },
  {
   "cell_type": "code",
   "execution_count": 19,
   "id": "03c83a08-ff0e-4923-b6d5-06e99e0a25a8",
   "metadata": {},
   "outputs": [
    {
     "data": {
      "text/plain": [
       "[{'n': 2,\n",
       "  'MSE': 0.2627993569937172,\n",
       "  'R2': 0.7960863583575651,\n",
       "  'MSPE': 1.2715430453847372}]"
      ]
     },
     "execution_count": 19,
     "metadata": {},
     "output_type": "execute_result"
    }
   ],
   "source": [
    "best_stat"
   ]
  },
  {
   "cell_type": "code",
   "execution_count": null,
   "id": "0f9fec34",
   "metadata": {},
   "outputs": [],
   "source": []
  },
  {
   "cell_type": "code",
   "execution_count": null,
   "id": "0f70c5a0",
   "metadata": {},
   "outputs": [],
   "source": []
  }
 ],
 "metadata": {
  "kernelspec": {
   "display_name": "Python 3 (ipykernel)",
   "language": "python",
   "name": "python3"
  },
  "language_info": {
   "codemirror_mode": {
    "name": "ipython",
    "version": 3
   },
   "file_extension": ".py",
   "mimetype": "text/x-python",
   "name": "python",
   "nbconvert_exporter": "python",
   "pygments_lexer": "ipython3",
   "version": "3.9.13"
  }
 },
 "nbformat": 4,
 "nbformat_minor": 5
}
