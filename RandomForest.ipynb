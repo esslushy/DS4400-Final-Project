{
 "cells": [
  {
   "cell_type": "code",
   "execution_count": 1,
   "id": "206aa82b-2095-4287-9f42-ece2aea139b5",
   "metadata": {},
   "outputs": [],
   "source": [
    "import numpy as np\n",
    "import pandas as pd\n",
    "from sklearn.ensemble import RandomForestRegressor\n",
    "from sklearn.model_selection import train_test_split\n",
    "from sklearn.model_selection import KFold\n",
    "from sklearn.metrics import mean_squared_error, r2_score\n",
    "from utils import *"
   ]
  },
  {
   "cell_type": "code",
   "execution_count": 2,
   "id": "a195a544-ef87-4a41-b628-52d114c5687a",
   "metadata": {},
   "outputs": [
    {
     "name": "stdout",
     "output_type": "stream",
     "text": [
      "Index(['Log GDP per capita', 'Social support',\n",
      "       'Healthy life expectancy at birth', 'Freedom to make life choices',\n",
      "       'Generosity', 'Perceptions of corruption', 'Positive affect',\n",
      "       'Negative affect', 'Confidence in national government'],\n",
      "      dtype='object')\n"
     ]
    }
   ],
   "source": [
    "data, label = gather_data()"
   ]
  },
  {
   "cell_type": "code",
   "execution_count": 3,
   "id": "c447433a-8cdb-46d4-b824-aff16800874b",
   "metadata": {},
   "outputs": [],
   "source": [
    "x_train, x_test, y_train, y_test = train_test_split(data, label, test_size=0.2)\n",
    "kfold = KFold(n_splits=10, shuffle=True)"
   ]
  },
  {
   "cell_type": "code",
   "execution_count": 4,
   "id": "ec4e2504-6eec-4d93-9b0d-e6cec26ef16c",
   "metadata": {},
   "outputs": [
    {
     "data": {
      "text/plain": [
       "array([[0.34333197, 0.52859724, 0.67839715, ..., 0.49140996, 0.33927605,\n",
       "        0.26055714],\n",
       "       [0.31014674, 0.61620486, 0.65289074, ..., 0.56352717, 0.46756676,\n",
       "        0.51302177],\n",
       "       [0.28185526, 0.56316155, 0.6810587 , ..., 0.69905132, 0.24782868,\n",
       "        0.6415652 ],\n",
       "       ...,\n",
       "       [0.76849751, 0.83233321, 0.94041108, ..., 0.59701514, 0.38543332,\n",
       "        0.18829274],\n",
       "       [0.78515607, 0.92237872, 0.91017304, ..., 0.66973627, 0.25319004,\n",
       "        0.32765862],\n",
       "       [0.83358933, 0.79772383, 0.97745081, ..., 0.57878023, 0.21714573,\n",
       "        0.38908401]])"
      ]
     },
     "execution_count": 4,
     "metadata": {},
     "output_type": "execute_result"
    }
   ],
   "source": [
    "x_train"
   ]
  },
  {
   "cell_type": "code",
   "execution_count": 5,
   "id": "9cef6c59-c3a5-4204-8ea4-45e34e564c89",
   "metadata": {},
   "outputs": [
    {
     "data": {
      "text/plain": [
       "array([[0.34333197, 0.52859724, 0.67839715, ..., 0.33927605, 0.26055714,\n",
       "        1.        ],\n",
       "       [0.31014674, 0.61620486, 0.65289074, ..., 0.46756676, 0.51302177,\n",
       "        1.        ],\n",
       "       [0.28185526, 0.56316155, 0.6810587 , ..., 0.24782868, 0.6415652 ,\n",
       "        1.        ],\n",
       "       ...,\n",
       "       [0.76849751, 0.83233321, 0.94041108, ..., 0.38543332, 0.18829274,\n",
       "        1.        ],\n",
       "       [0.78515607, 0.92237872, 0.91017304, ..., 0.25319004, 0.32765862,\n",
       "        1.        ],\n",
       "       [0.83358933, 0.79772383, 0.97745081, ..., 0.21714573, 0.38908401,\n",
       "        1.        ]])"
      ]
     },
     "execution_count": 5,
     "metadata": {},
     "output_type": "execute_result"
    }
   ],
   "source": [
    "basis_expansion(x_train,1)"
   ]
  },
  {
   "cell_type": "code",
   "execution_count": 6,
   "id": "e34fb8e9-6577-4985-8cd7-b25300137c5a",
   "metadata": {},
   "outputs": [
    {
     "data": {
      "text/plain": [
       "array([[0.34333197, 0.52859724, 0.67839715, ..., 0.11510824, 0.06789003,\n",
       "        1.        ],\n",
       "       [0.31014674, 0.61620486, 0.65289074, ..., 0.21861867, 0.26319133,\n",
       "        1.        ],\n",
       "       [0.28185526, 0.56316155, 0.6810587 , ..., 0.06141905, 0.41160591,\n",
       "        1.        ],\n",
       "       ...,\n",
       "       [0.76849751, 0.83233321, 0.94041108, ..., 0.14855884, 0.03545416,\n",
       "        1.        ],\n",
       "       [0.78515607, 0.92237872, 0.91017304, ..., 0.0641052 , 0.10736017,\n",
       "        1.        ],\n",
       "       [0.83358933, 0.79772383, 0.97745081, ..., 0.04715227, 0.15138637,\n",
       "        1.        ]])"
      ]
     },
     "execution_count": 6,
     "metadata": {},
     "output_type": "execute_result"
    }
   ],
   "source": [
    "basis_expansion(x_train,2)"
   ]
  },
  {
   "cell_type": "code",
   "execution_count": 9,
   "id": "d8444ed1-5ca2-4f95-9a0f-4f8bafdad01e",
   "metadata": {},
   "outputs": [
    {
     "data": {
      "text/plain": [
       "[{'n': 1,\n",
       "  'MSE': 0.38929271052596204,\n",
       "  'R2': 0.70428535351608,\n",
       "  'MSPE': 1.9238732870447737},\n",
       " {'n': 2,\n",
       "  'MSE': 0.3938433241565798,\n",
       "  'R2': 0.7018448721545187,\n",
       "  'MSPE': 1.9452915792251069},\n",
       " {'n': 3,\n",
       "  'MSE': 0.38873532212786704,\n",
       "  'R2': 0.702765240965405,\n",
       "  'MSPE': 1.9151675607123035},\n",
       " {'n': 4,\n",
       "  'MSE': 0.388284616336256,\n",
       "  'R2': 0.70720717900893,\n",
       "  'MSPE': 1.9089633757231907},\n",
       " {'n': 5,\n",
       "  'MSE': 0.38771092171130983,\n",
       "  'R2': 0.7062831940324961,\n",
       "  'MSPE': 1.9185329575819583},\n",
       " {'n': 6,\n",
       "  'MSE': 0.3888955838535888,\n",
       "  'R2': 0.7058091330615508,\n",
       "  'MSPE': 1.924877891426544},\n",
       " {'n': 7,\n",
       "  'MSE': 0.390205440323452,\n",
       "  'R2': 0.7061362987312351,\n",
       "  'MSPE': 1.9262401306137555}]"
      ]
     },
     "execution_count": 9,
     "metadata": {},
     "output_type": "execute_result"
    }
   ],
   "source": [
    "stats = []\n",
    "\n",
    "\n",
    "for i in range(1,8):\n",
    "    x_expansion = basis_expansion(x_train,i)\n",
    "    stat = {\n",
    "            \"n\": i,\n",
    "            \"MSE\": [],\n",
    "            \"R2\": [],\n",
    "            \"MSPE\": []\n",
    "    }\n",
    "    for train_index, val_index in kfold.split(x_expansion, y_train):\n",
    "        \n",
    "        model = RandomForestRegressor(max_depth=2, random_state=0)\n",
    "        model.fit(x_expansion[train_index], y_train[train_index])\n",
    "        stat[\"MSE\"].append(mean_squared_error(y_train[val_index], model.predict(x_expansion[val_index])))\n",
    "        stat[\"R2\"].append(r2_score(y_train[val_index], model.predict(x_expansion[val_index])))\n",
    "        stat[\"MSPE\"].append(mean_squared_percentage_error(y_train[val_index], model.predict(x_expansion[val_index])))\n",
    "    stat[\"MSE\"] = np.mean(stat[\"MSE\"])\n",
    "    stat[\"R2\"] = np.mean(stat[\"R2\"])\n",
    "    stat[\"MSPE\"] = np.mean(stat[\"MSPE\"])\n",
    "    stats.append(stat)\n",
    "stats"
   ]
  },
  {
   "cell_type": "code",
   "execution_count": null,
   "id": "03c83a08-ff0e-4923-b6d5-06e99e0a25a8",
   "metadata": {},
   "outputs": [],
   "source": []
  }
 ],
 "metadata": {
  "kernelspec": {
   "display_name": "Python 3 (ipykernel)",
   "language": "python",
   "name": "python3"
  },
  "language_info": {
   "codemirror_mode": {
    "name": "ipython",
    "version": 3
   },
   "file_extension": ".py",
   "mimetype": "text/x-python",
   "name": "python",
   "nbconvert_exporter": "python",
   "pygments_lexer": "ipython3",
   "version": "3.9.13"
  }
 },
 "nbformat": 4,
 "nbformat_minor": 5
}
