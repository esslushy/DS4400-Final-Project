{
 "cells": [
  {
   "cell_type": "code",
   "execution_count": 2,
   "id": "206aa82b-2095-4287-9f42-ece2aea139b5",
   "metadata": {},
   "outputs": [],
   "source": [
    "import numpy as np\n",
    "import pandas as pd\n",
    "from sklearn.ensemble import RandomForestRegressor\n",
    "from sklearn.model_selection import train_test_split\n",
    "from sklearn.model_selection import KFold\n",
    "from sklearn.metrics import mean_squared_error, r2_score\n",
    "from utils import *"
   ]
  },
  {
   "cell_type": "code",
   "execution_count": 3,
   "id": "a195a544-ef87-4a41-b628-52d114c5687a",
   "metadata": {},
   "outputs": [
    {
     "name": "stdout",
     "output_type": "stream",
     "text": [
      "Index(['Log GDP per capita', 'Social support',\n",
      "       'Healthy life expectancy at birth', 'Freedom to make life choices',\n",
      "       'Generosity', 'Perceptions of corruption', 'Positive affect',\n",
      "       'Negative affect', 'Confidence in national government'],\n",
      "      dtype='object')\n"
     ]
    }
   ],
   "source": [
    "data, label = gather_data()"
   ]
  },
  {
   "cell_type": "code",
   "execution_count": 4,
   "id": "c447433a-8cdb-46d4-b824-aff16800874b",
   "metadata": {},
   "outputs": [],
   "source": [
    "x_train, x_test, y_train, y_test = train_test_split(data, label, test_size=0.2)\n",
    "kfold = KFold(n_splits=10, shuffle=True)"
   ]
  },
  {
   "cell_type": "code",
   "execution_count": 5,
   "id": "ec4e2504-6eec-4d93-9b0d-e6cec26ef16c",
   "metadata": {},
   "outputs": [
    {
     "data": {
      "text/plain": [
       "array([[0.5260864 , 0.8129217 , 0.8132486 , ..., 0.81144178, 0.35112527,\n",
       "        0.75820857],\n",
       "       [0.22822541, 0.81766069, 0.67455273, ..., 0.70999801, 0.16615444,\n",
       "        0.7923069 ],\n",
       "       [0.83489252, 0.95492065, 0.93641882, ..., 0.76281816, 0.17171657,\n",
       "        0.60901547],\n",
       "       ...,\n",
       "       [0.69896376, 0.9002558 , 0.8698803 , ..., 0.50173569, 0.23276807,\n",
       "        0.4479163 ],\n",
       "       [0.79622812, 0.91720337, 0.92385034, ..., 0.59189552, 0.29536614,\n",
       "        0.3319163 ],\n",
       "       [0.68009092, 0.77366722, 0.69761944, ..., 0.66504985, 0.27272177,\n",
       "        0.69006956]])"
      ]
     },
     "execution_count": 5,
     "metadata": {},
     "output_type": "execute_result"
    }
   ],
   "source": [
    "x_train"
   ]
  },
  {
   "cell_type": "code",
   "execution_count": 6,
   "id": "9cef6c59-c3a5-4204-8ea4-45e34e564c89",
   "metadata": {},
   "outputs": [
    {
     "data": {
      "text/plain": [
       "array([[0.5260864 , 0.8129217 , 0.8132486 , ..., 0.35112527, 0.75820857,\n",
       "        1.        ],\n",
       "       [0.22822541, 0.81766069, 0.67455273, ..., 0.16615444, 0.7923069 ,\n",
       "        1.        ],\n",
       "       [0.83489252, 0.95492065, 0.93641882, ..., 0.17171657, 0.60901547,\n",
       "        1.        ],\n",
       "       ...,\n",
       "       [0.69896376, 0.9002558 , 0.8698803 , ..., 0.23276807, 0.4479163 ,\n",
       "        1.        ],\n",
       "       [0.79622812, 0.91720337, 0.92385034, ..., 0.29536614, 0.3319163 ,\n",
       "        1.        ],\n",
       "       [0.68009092, 0.77366722, 0.69761944, ..., 0.27272177, 0.69006956,\n",
       "        1.        ]])"
      ]
     },
     "execution_count": 6,
     "metadata": {},
     "output_type": "execute_result"
    }
   ],
   "source": [
    "basis_expansion(x_train,1)"
   ]
  },
  {
   "cell_type": "code",
   "execution_count": 7,
   "id": "e34fb8e9-6577-4985-8cd7-b25300137c5a",
   "metadata": {},
   "outputs": [
    {
     "data": {
      "text/plain": [
       "array([[0.5260864 , 0.8129217 , 0.8132486 , ..., 0.12328896, 0.57488024,\n",
       "        1.        ],\n",
       "       [0.22822541, 0.81766069, 0.67455273, ..., 0.0276073 , 0.62775022,\n",
       "        1.        ],\n",
       "       [0.83489252, 0.95492065, 0.93641882, ..., 0.02948658, 0.37089984,\n",
       "        1.        ],\n",
       "       ...,\n",
       "       [0.69896376, 0.9002558 , 0.8698803 , ..., 0.05418098, 0.20062901,\n",
       "        1.        ],\n",
       "       [0.79622812, 0.91720337, 0.92385034, ..., 0.08724116, 0.11016843,\n",
       "        1.        ],\n",
       "       [0.68009092, 0.77366722, 0.69761944, ..., 0.07437716, 0.47619599,\n",
       "        1.        ]])"
      ]
     },
     "execution_count": 7,
     "metadata": {},
     "output_type": "execute_result"
    }
   ],
   "source": [
    "basis_expansion(x_train,2)"
   ]
  },
  {
   "cell_type": "code",
   "execution_count": 9,
   "id": "d8444ed1-5ca2-4f95-9a0f-4f8bafdad01e",
   "metadata": {},
   "outputs": [
    {
     "data": {
      "text/plain": [
       "[{'n': 1,\n",
       "  'MSE': 0.39674064883268506,\n",
       "  'R2': 0.697223088178902,\n",
       "  'MSPE': 1.9539194681936156,\n",
       "  'Depth': [2, 2, 2, 2, 2, 2, 2, 2, 2, 2]},\n",
       " {'n': 1,\n",
       "  'MSE': 0.2918224782050104,\n",
       "  'R2': 0.7786622455704157,\n",
       "  'MSPE': 1.4818973808011286,\n",
       "  'Depth': [3, 3, 3, 3, 3, 3, 3, 3, 3, 3]},\n",
       " {'n': 1,\n",
       "  'MSE': 0.2517452637357101,\n",
       "  'R2': 0.807276974444655,\n",
       "  'MSPE': 1.2580592133854824,\n",
       "  'Depth': [4, 4, 4, 4, 4, 4, 4, 4, 4, 4]},\n",
       " {'n': 2,\n",
       "  'MSE': 0.3974780605623099,\n",
       "  'R2': 0.695803565827512,\n",
       "  'MSPE': 1.9802390329626043,\n",
       "  'Depth': [2, 2, 2, 2, 2, 2, 2, 2, 2, 2]},\n",
       " {'n': 2,\n",
       "  'MSE': 0.291015800939133,\n",
       "  'R2': 0.7776730002364999,\n",
       "  'MSPE': 1.4759677749514535,\n",
       "  'Depth': [3, 3, 3, 3, 3, 3, 3, 3, 3, 3]},\n",
       " {'n': 2,\n",
       "  'MSE': 0.24916397502767856,\n",
       "  'R2': 0.811067500997738,\n",
       "  'MSPE': 1.2480080461726515,\n",
       "  'Depth': [4, 4, 4, 4, 4, 4, 4, 4, 4, 4]},\n",
       " {'n': 3,\n",
       "  'MSE': 0.3984486894857672,\n",
       "  'R2': 0.6942506821320087,\n",
       "  'MSPE': 1.9690055271378366,\n",
       "  'Depth': [2, 2, 2, 2, 2, 2, 2, 2, 2, 2]},\n",
       " {'n': 3,\n",
       "  'MSE': 0.2945039648326245,\n",
       "  'R2': 0.7728308770962876,\n",
       "  'MSPE': 1.5041409379613957,\n",
       "  'Depth': [3, 3, 3, 3, 3, 3, 3, 3, 3, 3]},\n",
       " {'n': 3,\n",
       "  'MSE': 0.24707396595106998,\n",
       "  'R2': 0.8107103876688193,\n",
       "  'MSPE': 1.2412697795005978,\n",
       "  'Depth': [4, 4, 4, 4, 4, 4, 4, 4, 4, 4]},\n",
       " {'n': 4,\n",
       "  'MSE': 0.399494668645257,\n",
       "  'R2': 0.6955745528863945,\n",
       "  'MSPE': 1.9761655823527544,\n",
       "  'Depth': [2, 2, 2, 2, 2, 2, 2, 2, 2, 2]},\n",
       " {'n': 4,\n",
       "  'MSE': 0.2955343099492612,\n",
       "  'R2': 0.7746186863709449,\n",
       "  'MSPE': 1.5067307135221983,\n",
       "  'Depth': [3, 3, 3, 3, 3, 3, 3, 3, 3, 3]},\n",
       " {'n': 4,\n",
       "  'MSE': 0.24890434082310695,\n",
       "  'R2': 0.8082044693389543,\n",
       "  'MSPE': 1.252849785767556,\n",
       "  'Depth': [4, 4, 4, 4, 4, 4, 4, 4, 4, 4]},\n",
       " {'n': 5,\n",
       "  'MSE': 0.3984787001524291,\n",
       "  'R2': 0.699110479800889,\n",
       "  'MSPE': 1.9745968924391282,\n",
       "  'Depth': [2, 2, 2, 2, 2, 2, 2, 2, 2, 2]},\n",
       " {'n': 5,\n",
       "  'MSE': 0.2954549834549584,\n",
       "  'R2': 0.7754065721693785,\n",
       "  'MSPE': 1.4980198654426908,\n",
       "  'Depth': [3, 3, 3, 3, 3, 3, 3, 3, 3, 3]},\n",
       " {'n': 5,\n",
       "  'MSE': 0.24839729273430441,\n",
       "  'R2': 0.8112708682675818,\n",
       "  'MSPE': 1.2487793273838945,\n",
       "  'Depth': [4, 4, 4, 4, 4, 4, 4, 4, 4, 4]},\n",
       " {'n': 6,\n",
       "  'MSE': 0.40132090800301307,\n",
       "  'R2': 0.6940708040831722,\n",
       "  'MSPE': 1.9856476981103939,\n",
       "  'Depth': [2, 2, 2, 2, 2, 2, 2, 2, 2, 2]},\n",
       " {'n': 6,\n",
       "  'MSE': 0.29587325106379925,\n",
       "  'R2': 0.7704948297166057,\n",
       "  'MSPE': 1.501698165817285,\n",
       "  'Depth': [3, 3, 3, 3, 3, 3, 3, 3, 3, 3]},\n",
       " {'n': 6,\n",
       "  'MSE': 0.25005801751605455,\n",
       "  'R2': 0.8101125382183284,\n",
       "  'MSPE': 1.2751076700252089,\n",
       "  'Depth': [4, 4, 4, 4, 4, 4, 4, 4, 4, 4]},\n",
       " {'n': 7,\n",
       "  'MSE': 0.39642334190520645,\n",
       "  'R2': 0.6959353939944296,\n",
       "  'MSPE': 1.9642391865464996,\n",
       "  'Depth': [2, 2, 2, 2, 2, 2, 2, 2, 2, 2]},\n",
       " {'n': 7,\n",
       "  'MSE': 0.2934498038523218,\n",
       "  'R2': 0.7765957494941941,\n",
       "  'MSPE': 1.4943538458374284,\n",
       "  'Depth': [3, 3, 3, 3, 3, 3, 3, 3, 3, 3]},\n",
       " {'n': 7,\n",
       "  'MSE': 0.2495249738606824,\n",
       "  'R2': 0.8095185654843547,\n",
       "  'MSPE': 1.2556860991687278,\n",
       "  'Depth': [4, 4, 4, 4, 4, 4, 4, 4, 4, 4]}]"
      ]
     },
     "execution_count": 9,
     "metadata": {},
     "output_type": "execute_result"
    }
   ],
   "source": [
    "stats = []\n",
    "best_stat = []\n",
    "\n",
    "temp = {\n",
    "    \"n\": -1,\n",
    "    \"MSE\": -1,\n",
    "    \"R2\": -1,\n",
    "    \"MSPE\": -1,\n",
    "    \"Depth\": -1\n",
    "}\n",
    "\n",
    "best_stat.append(temp)\n",
    "\n",
    "for i in range(1,8):\n",
    "    x_expansion = basis_expansion(x_train,i)\n",
    "    \n",
    "    for d in range (2,5):\n",
    "        stat = {\n",
    "            \"n\": i,\n",
    "            \"MSE\": [],\n",
    "            \"R2\": [],\n",
    "            \"MSPE\": [],\n",
    "            \"Depth\": []\n",
    "        }\n",
    "        for train_index, val_index in kfold.split(x_expansion, y_train):\n",
    "\n",
    "            model = RandomForestRegressor(max_depth=d, random_state=0)\n",
    "            model.fit(x_expansion[train_index], y_train[train_index])\n",
    "            stat[\"MSE\"].append(mean_squared_error(y_train[val_index], model.predict(x_expansion[val_index])))\n",
    "            stat[\"R2\"].append(r2_score(y_train[val_index], model.predict(x_expansion[val_index])))\n",
    "            stat[\"MSPE\"].append(mean_squared_percentage_error(y_train[val_index], model.predict(x_expansion[val_index])))\n",
    "            stat[\"Depth\"].append(d)\n",
    "        stat[\"MSE\"] = np.mean(stat[\"MSE\"])\n",
    "        stat[\"R2\"] = np.mean(stat[\"R2\"])\n",
    "        stat[\"MSPE\"] = np.mean(stat[\"MSPE\"])\n",
    "        stats.append(stat)\n",
    "        if stat[\"R2\"] > best_stat[0][\"R2\"]:\n",
    "            best_stat.pop()\n",
    "            best_stat.append(stat)\n",
    "stats"
   ]
  },
  {
   "cell_type": "code",
   "execution_count": 10,
   "id": "03c83a08-ff0e-4923-b6d5-06e99e0a25a8",
   "metadata": {},
   "outputs": [
    {
     "data": {
      "text/plain": [
       "[{'n': 5,\n",
       "  'MSE': 0.24839729273430441,\n",
       "  'R2': 0.8112708682675818,\n",
       "  'MSPE': 1.2487793273838945,\n",
       "  'Depth': [4, 4, 4, 4, 4, 4, 4, 4, 4, 4]}]"
      ]
     },
     "execution_count": 10,
     "metadata": {},
     "output_type": "execute_result"
    }
   ],
   "source": [
    "best_stat\n"
   ]
  },
  {
   "cell_type": "code",
   "execution_count": null,
   "id": "6852546a",
   "metadata": {},
   "outputs": [],
   "source": []
  }
 ],
 "metadata": {
  "kernelspec": {
   "display_name": "Python 3 (ipykernel)",
   "language": "python",
   "name": "python3"
  },
  "language_info": {
   "codemirror_mode": {
    "name": "ipython",
    "version": 3
   },
   "file_extension": ".py",
   "mimetype": "text/x-python",
   "name": "python",
   "nbconvert_exporter": "python",
   "pygments_lexer": "ipython3",
   "version": "3.9.13"
  }
 },
 "nbformat": 4,
 "nbformat_minor": 5
}
