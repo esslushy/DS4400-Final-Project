{
 "cells": [
  {
   "cell_type": "code",
   "execution_count": 1,
   "id": "206aa82b-2095-4287-9f42-ece2aea139b5",
   "metadata": {},
   "outputs": [],
   "source": [
    "import numpy as np\n",
    "import pandas as pd\n",
    "from sklearn.ensemble import RandomForestRegressor\n",
    "from sklearn.model_selection import train_test_split\n",
    "from sklearn.model_selection import KFold\n",
    "from sklearn.metrics import mean_squared_error, r2_score\n",
    "from utils import *"
   ]
  },
  {
   "cell_type": "code",
   "execution_count": 2,
   "id": "a195a544-ef87-4a41-b628-52d114c5687a",
   "metadata": {},
   "outputs": [
    {
     "name": "stdout",
     "output_type": "stream",
     "text": [
      "Index(['Log GDP per capita', 'Social support',\n",
      "       'Healthy life expectancy at birth', 'Freedom to make life choices',\n",
      "       'Generosity', 'Perceptions of corruption', 'Positive affect',\n",
      "       'Negative affect', 'Confidence in national government'],\n",
      "      dtype='object')\n"
     ]
    }
   ],
   "source": [
    "data, label = gather_data()"
   ]
  },
  {
   "cell_type": "code",
   "execution_count": 3,
   "id": "c447433a-8cdb-46d4-b824-aff16800874b",
   "metadata": {},
   "outputs": [],
   "source": [
    "x_train, x_test, y_train, y_test = train_test_split(data, label, test_size=0.2)\n",
    "kfold = KFold(n_splits=10, shuffle=True)"
   ]
  },
  {
   "cell_type": "code",
   "execution_count": 4,
   "id": "ec4e2504-6eec-4d93-9b0d-e6cec26ef16c",
   "metadata": {},
   "outputs": [
    {
     "data": {
      "text/plain": [
       "array([[0.34333197, 0.52859724, 0.67839715, ..., 0.49140996, 0.33927605,\n",
       "        0.26055714],\n",
       "       [0.31014674, 0.61620486, 0.65289074, ..., 0.56352717, 0.46756676,\n",
       "        0.51302177],\n",
       "       [0.28185526, 0.56316155, 0.6810587 , ..., 0.69905132, 0.24782868,\n",
       "        0.6415652 ],\n",
       "       ...,\n",
       "       [0.76849751, 0.83233321, 0.94041108, ..., 0.59701514, 0.38543332,\n",
       "        0.18829274],\n",
       "       [0.78515607, 0.92237872, 0.91017304, ..., 0.66973627, 0.25319004,\n",
       "        0.32765862],\n",
       "       [0.83358933, 0.79772383, 0.97745081, ..., 0.57878023, 0.21714573,\n",
       "        0.38908401]])"
      ]
     },
     "execution_count": 4,
     "metadata": {},
     "output_type": "execute_result"
    }
   ],
   "source": [
    "x_train"
   ]
  },
  {
   "cell_type": "code",
   "execution_count": 5,
   "id": "9cef6c59-c3a5-4204-8ea4-45e34e564c89",
   "metadata": {},
   "outputs": [
    {
     "data": {
      "text/plain": [
       "array([[0.34333197, 0.52859724, 0.67839715, ..., 0.33927605, 0.26055714,\n",
       "        1.        ],\n",
       "       [0.31014674, 0.61620486, 0.65289074, ..., 0.46756676, 0.51302177,\n",
       "        1.        ],\n",
       "       [0.28185526, 0.56316155, 0.6810587 , ..., 0.24782868, 0.6415652 ,\n",
       "        1.        ],\n",
       "       ...,\n",
       "       [0.76849751, 0.83233321, 0.94041108, ..., 0.38543332, 0.18829274,\n",
       "        1.        ],\n",
       "       [0.78515607, 0.92237872, 0.91017304, ..., 0.25319004, 0.32765862,\n",
       "        1.        ],\n",
       "       [0.83358933, 0.79772383, 0.97745081, ..., 0.21714573, 0.38908401,\n",
       "        1.        ]])"
      ]
     },
     "execution_count": 5,
     "metadata": {},
     "output_type": "execute_result"
    }
   ],
   "source": [
    "basis_expansion(x_train,1)"
   ]
  },
  {
   "cell_type": "code",
   "execution_count": 6,
   "id": "e34fb8e9-6577-4985-8cd7-b25300137c5a",
   "metadata": {},
   "outputs": [
    {
     "data": {
      "text/plain": [
       "array([[0.34333197, 0.52859724, 0.67839715, ..., 0.11510824, 0.06789003,\n",
       "        1.        ],\n",
       "       [0.31014674, 0.61620486, 0.65289074, ..., 0.21861867, 0.26319133,\n",
       "        1.        ],\n",
       "       [0.28185526, 0.56316155, 0.6810587 , ..., 0.06141905, 0.41160591,\n",
       "        1.        ],\n",
       "       ...,\n",
       "       [0.76849751, 0.83233321, 0.94041108, ..., 0.14855884, 0.03545416,\n",
       "        1.        ],\n",
       "       [0.78515607, 0.92237872, 0.91017304, ..., 0.0641052 , 0.10736017,\n",
       "        1.        ],\n",
       "       [0.83358933, 0.79772383, 0.97745081, ..., 0.04715227, 0.15138637,\n",
       "        1.        ]])"
      ]
     },
     "execution_count": 6,
     "metadata": {},
     "output_type": "execute_result"
    }
   ],
   "source": [
    "basis_expansion(x_train,2)"
   ]
  },
  {
   "cell_type": "code",
   "execution_count": 12,
   "id": "d8444ed1-5ca2-4f95-9a0f-4f8bafdad01e",
   "metadata": {},
   "outputs": [
    {
     "data": {
      "text/plain": [
       "[{'n': 1,\n",
       "  'MSE': 0.38886844711605884,\n",
       "  'R2': 0.7059578621462937,\n",
       "  'MSPE': 1.9400488241791627,\n",
       "  'Depth': [2, 2, 2, 2, 2, 2, 2, 2, 2, 2]},\n",
       " {'n': 1,\n",
       "  'MSE': 0.2952002192047957,\n",
       "  'R2': 0.7767032185496832,\n",
       "  'MSPE': 1.4962882112259621,\n",
       "  'Depth': [3, 3, 3, 3, 3, 3, 3, 3, 3, 3]},\n",
       " {'n': 1,\n",
       "  'MSE': 0.2503767423493141,\n",
       "  'R2': 0.8099876377897965,\n",
       "  'MSPE': 1.2605608525722916,\n",
       "  'Depth': [4, 4, 4, 4, 4, 4, 4, 4, 4, 4]},\n",
       " {'n': 2,\n",
       "  'MSE': 0.39060194008587346,\n",
       "  'R2': 0.7036240817551538,\n",
       "  'MSPE': 1.9353816114980895,\n",
       "  'Depth': [2, 2, 2, 2, 2, 2, 2, 2, 2, 2]},\n",
       " {'n': 2,\n",
       "  'MSE': 0.2919247852910858,\n",
       "  'R2': 0.7756946537288036,\n",
       "  'MSPE': 1.4746112112255547,\n",
       "  'Depth': [3, 3, 3, 3, 3, 3, 3, 3, 3, 3]},\n",
       " {'n': 2,\n",
       "  'MSE': 0.252620863909025,\n",
       "  'R2': 0.8083860522922883,\n",
       "  'MSPE': 1.2597792286187368,\n",
       "  'Depth': [4, 4, 4, 4, 4, 4, 4, 4, 4, 4]},\n",
       " {'n': 3,\n",
       "  'MSE': 0.38817829613391125,\n",
       "  'R2': 0.7074912547146812,\n",
       "  'MSPE': 1.9311771913772873,\n",
       "  'Depth': [2, 2, 2, 2, 2, 2, 2, 2, 2, 2]},\n",
       " {'n': 3,\n",
       "  'MSE': 0.2929274637855853,\n",
       "  'R2': 0.7783753687126216,\n",
       "  'MSPE': 1.4857031874564826,\n",
       "  'Depth': [3, 3, 3, 3, 3, 3, 3, 3, 3, 3]},\n",
       " {'n': 3,\n",
       "  'MSE': 0.2515992592959127,\n",
       "  'R2': 0.809668169010471,\n",
       "  'MSPE': 1.262893201938232,\n",
       "  'Depth': [4, 4, 4, 4, 4, 4, 4, 4, 4, 4]},\n",
       " {'n': 4,\n",
       "  'MSE': 0.3915952277629494,\n",
       "  'R2': 0.7055864592364104,\n",
       "  'MSPE': 1.9196078737900717,\n",
       "  'Depth': [2, 2, 2, 2, 2, 2, 2, 2, 2, 2]},\n",
       " {'n': 4,\n",
       "  'MSE': 0.29495634121351355,\n",
       "  'R2': 0.7777502548839654,\n",
       "  'MSPE': 1.495402362710332,\n",
       "  'Depth': [3, 3, 3, 3, 3, 3, 3, 3, 3, 3]},\n",
       " {'n': 4,\n",
       "  'MSE': 0.2506752001892329,\n",
       "  'R2': 0.81053061471662,\n",
       "  'MSPE': 1.2568910212068998,\n",
       "  'Depth': [4, 4, 4, 4, 4, 4, 4, 4, 4, 4]},\n",
       " {'n': 5,\n",
       "  'MSE': 0.3933399011265771,\n",
       "  'R2': 0.7018466441686261,\n",
       "  'MSPE': 1.9429319739132183,\n",
       "  'Depth': [2, 2, 2, 2, 2, 2, 2, 2, 2, 2]},\n",
       " {'n': 5,\n",
       "  'MSE': 0.29242749828229664,\n",
       "  'R2': 0.7762818075603994,\n",
       "  'MSPE': 1.4759470002728765,\n",
       "  'Depth': [3, 3, 3, 3, 3, 3, 3, 3, 3, 3]},\n",
       " {'n': 5,\n",
       "  'MSE': 0.2548004365142552,\n",
       "  'R2': 0.8061552704697371,\n",
       "  'MSPE': 1.2941044916712419,\n",
       "  'Depth': [4, 4, 4, 4, 4, 4, 4, 4, 4, 4]},\n",
       " {'n': 6,\n",
       "  'MSE': 0.3865726633195389,\n",
       "  'R2': 0.7062308622067816,\n",
       "  'MSPE': 1.9142212393675613,\n",
       "  'Depth': [2, 2, 2, 2, 2, 2, 2, 2, 2, 2]},\n",
       " {'n': 6,\n",
       "  'MSE': 0.29180825821798145,\n",
       "  'R2': 0.7792894503406341,\n",
       "  'MSPE': 1.491776325113701,\n",
       "  'Depth': [3, 3, 3, 3, 3, 3, 3, 3, 3, 3]},\n",
       " {'n': 6,\n",
       "  'MSE': 0.2539448478831537,\n",
       "  'R2': 0.8070567566081547,\n",
       "  'MSPE': 1.2750846372324616,\n",
       "  'Depth': [4, 4, 4, 4, 4, 4, 4, 4, 4, 4]},\n",
       " {'n': 7,\n",
       "  'MSE': 0.39028611285945397,\n",
       "  'R2': 0.7067316975118474,\n",
       "  'MSPE': 1.924144506406155,\n",
       "  'Depth': [2, 2, 2, 2, 2, 2, 2, 2, 2, 2]},\n",
       " {'n': 7,\n",
       "  'MSE': 0.2939081502257924,\n",
       "  'R2': 0.7757907828216227,\n",
       "  'MSPE': 1.4941008572314929,\n",
       "  'Depth': [3, 3, 3, 3, 3, 3, 3, 3, 3, 3]},\n",
       " {'n': 7,\n",
       "  'MSE': 0.25117931193862836,\n",
       "  'R2': 0.8090316847553751,\n",
       "  'MSPE': 1.2700617037456414,\n",
       "  'Depth': [4, 4, 4, 4, 4, 4, 4, 4, 4, 4]}]"
      ]
     },
     "execution_count": 12,
     "metadata": {},
     "output_type": "execute_result"
    }
   ],
   "source": [
    "stats = []\n",
    "\n",
    "\n",
    "for i in range(1,8):\n",
    "    x_expansion = basis_expansion(x_train,i)\n",
    "    \n",
    "    for d in range (2,5):\n",
    "        stat = {\n",
    "            \"n\": i,\n",
    "            \"MSE\": [],\n",
    "            \"R2\": [],\n",
    "            \"MSPE\": [],\n",
    "            \"Depth\": []\n",
    "        }\n",
    "        for train_index, val_index in kfold.split(x_expansion, y_train):\n",
    "\n",
    "            model = RandomForestRegressor(max_depth=d, random_state=0)\n",
    "            model.fit(x_expansion[train_index], y_train[train_index])\n",
    "            stat[\"MSE\"].append(mean_squared_error(y_train[val_index], model.predict(x_expansion[val_index])))\n",
    "            stat[\"R2\"].append(r2_score(y_train[val_index], model.predict(x_expansion[val_index])))\n",
    "            stat[\"MSPE\"].append(mean_squared_percentage_error(y_train[val_index], model.predict(x_expansion[val_index])))\n",
    "            stat[\"Depth\"].append(d)\n",
    "        stat[\"MSE\"] = np.mean(stat[\"MSE\"])\n",
    "        stat[\"R2\"] = np.mean(stat[\"R2\"])\n",
    "        stat[\"MSPE\"] = np.mean(stat[\"MSPE\"])\n",
    "        stats.append(stat)\n",
    "stats"
   ]
  },
  {
   "cell_type": "code",
   "execution_count": null,
   "id": "03c83a08-ff0e-4923-b6d5-06e99e0a25a8",
   "metadata": {},
   "outputs": [],
   "source": []
  }
 ],
 "metadata": {
  "kernelspec": {
   "display_name": "Python 3 (ipykernel)",
   "language": "python",
   "name": "python3"
  },
  "language_info": {
   "codemirror_mode": {
    "name": "ipython",
    "version": 3
   },
   "file_extension": ".py",
   "mimetype": "text/x-python",
   "name": "python",
   "nbconvert_exporter": "python",
   "pygments_lexer": "ipython3",
   "version": "3.9.13"
  }
 },
 "nbformat": 4,
 "nbformat_minor": 5
}
